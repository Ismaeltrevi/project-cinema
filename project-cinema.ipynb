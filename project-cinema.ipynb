{
 "cells": [
  {
   "cell_type": "markdown",
   "metadata": {},
   "source": [
    "## Final Project Submission\n",
    "\n",
    "* Student name: Ismael Araujo\n",
    "* Student pace: full time\n",
    "* Scheduled project review date/time: October 2, 2020\n",
    "* Instructor name: Fangfang\n",
    "* Blog post URL:\n"
   ]
  },
  {
   "cell_type": "markdown",
   "metadata": {},
   "source": [
    "# Overview\n",
    "- The purpose of this project is identify the type of movies are currently doing the best in the box office and draw recommendations for a movie studio based on relevant data\n",
    "- The approach was use multiple datasets to analyse group of genres as well as individual genres, budget, box office, and ROI."
   ]
  },
  {
   "cell_type": "markdown",
   "metadata": {},
   "source": [
    "# Business Problem\n",
    "\n",
    "Microsoft sees all the big companies creating original video content, and they want to get in on the fun. They have decided to create a new movie studio, but the problem is they don’t know anything about creating movies. They have hired you to help them better understand the movie industry. \n",
    "\n",
    "<strong>Your team is charged with exploring what type of films are currently doing the best at the box office</strong>. You must then translate those findings into actionable <strong>insights</strong> that the head of Microsoft's new movie studio can use to help <strong>decide what type of films to create</strong>."
   ]
  },
  {
   "cell_type": "markdown",
   "metadata": {},
   "source": [
    "# Questions:\n",
    "\n",
    "1. Is there any connection between the top 20 most profitable movies of all times?\n",
    "\n",
    "2. Does higher budget reflect in higher profits?\n",
    "\n",
    "3. What are the top 10 genres with the most movies launched since 1990?\n",
    "\n",
    "4. What groups of genres bring the highest box office revenue and ROI?\n",
    "\n",
    "5. What genres bring the highest box office revenue and ROI?"
   ]
  },
  {
   "cell_type": "markdown",
   "metadata": {},
   "source": [
    "# Sections Summary:\n",
    "\n",
    "1. Importing Libraries and Datasets\n",
    "2. Inicial Data Wrangling\n",
    "3. Cleaning the Data\n",
    "4. Exploring the Data\n",
    "5. Genres With The Highest Release Of Movies\n",
    "6. Correlation Between a Higher Budget and Higher Profits\n",
    "7. Other Correlations\n",
    "8. Most Profitable Genres Group\n",
    "9. Most Profitable Individual Genres\n",
    "10. Final Takeaways and Recomendations"
   ]
  },
  {
   "cell_type": "markdown",
   "metadata": {},
   "source": [
    "# 1. Importing Libraries and Datasets\n",
    "\n",
    "### 1.1 Import libraries"
   ]
  },
  {
   "cell_type": "code",
   "execution_count": 1,
   "metadata": {},
   "outputs": [
    {
     "name": "stdout",
     "output_type": "stream",
     "text": [
      "Requirement already satisfied: xlrd in /opt/anaconda3/envs/learn-env/lib/python3.6/site-packages (1.2.0)\r\n"
     ]
    }
   ],
   "source": [
    "# Install xlrd to use the read_excel method\n",
    "!pip install xlrd\n",
    "\n",
    "# Import libraries\n",
    "import pandas as pd \n",
    "import numpy as np\n",
    "from pandas import Series, DataFrame\n",
    "import matplotlib.pyplot as plt\n",
    "%matplotlib inline\n",
    "import seaborn as sns\n",
    "from collections import Counter\n",
    "# This will force Pandas to show all the DataFrame's rows\n",
    "pd.set_option('display.max_columns', None)"
   ]
  },
  {
   "cell_type": "markdown",
   "metadata": {},
   "source": [
    "### 1.2 Import files needed to investigate the data"
   ]
  },
  {
   "cell_type": "code",
   "execution_count": 2,
   "metadata": {
    "scrolled": true
   },
   "outputs": [],
   "source": [
    "# Import files that I'll need to investigate the data\n",
    "df_basics = pd.read_csv('zippedData/imdb.title.basics.csv.gz', compression='gzip')\n",
    "df_ratings = pd.read_csv('zippedData/imdb.title.ratings.csv.gz', compression='gzip')\n",
    "df_akas = pd.read_csv('zippedData/imdb.title.akas.csv.gz', compression='gzip')\n",
    "df_imdb = pd.read_excel('zippedData/movies_metadata.xlsx')\n",
    "df_movies = pd.read_excel('zippedData/IMDb-movies.xlsx')"
   ]
  },
  {
   "cell_type": "markdown",
   "metadata": {},
   "source": [
    "### Findings:\n",
    "\n",
    "- One of the data sets is taking a few seconds to load. I'll filter out the irrelevant data to improve the speed.\n",
    "\n",
    "### Next Steps:\n",
    "\n",
    "- Start investigating the DataFrames."
   ]
  },
  {
   "cell_type": "markdown",
   "metadata": {},
   "source": [
    "# 2. Inicial Data Wrangling\n",
    "\n",
    "- Open the DataFrames and understand their dimensions and what type of data is available\n",
    "\n",
    "Note: The cells in this section DOES NOT affect other sections of the this notebook."
   ]
  },
  {
   "cell_type": "markdown",
   "metadata": {},
   "source": [
    "### 2.1 imdb.title.basics.csv imported as df_basics"
   ]
  },
  {
   "cell_type": "code",
   "execution_count": 3,
   "metadata": {
    "scrolled": true
   },
   "outputs": [
    {
     "data": {
      "text/html": [
       "<div>\n",
       "<style scoped>\n",
       "    .dataframe tbody tr th:only-of-type {\n",
       "        vertical-align: middle;\n",
       "    }\n",
       "\n",
       "    .dataframe tbody tr th {\n",
       "        vertical-align: top;\n",
       "    }\n",
       "\n",
       "    .dataframe thead th {\n",
       "        text-align: right;\n",
       "    }\n",
       "</style>\n",
       "<table border=\"1\" class=\"dataframe\">\n",
       "  <thead>\n",
       "    <tr style=\"text-align: right;\">\n",
       "      <th></th>\n",
       "      <th>tconst</th>\n",
       "      <th>primary_title</th>\n",
       "      <th>original_title</th>\n",
       "      <th>start_year</th>\n",
       "      <th>runtime_minutes</th>\n",
       "      <th>genres</th>\n",
       "    </tr>\n",
       "  </thead>\n",
       "  <tbody>\n",
       "    <tr>\n",
       "      <th>0</th>\n",
       "      <td>tt0063540</td>\n",
       "      <td>Sunghursh</td>\n",
       "      <td>Sunghursh</td>\n",
       "      <td>2013</td>\n",
       "      <td>175.0</td>\n",
       "      <td>Action,Crime,Drama</td>\n",
       "    </tr>\n",
       "  </tbody>\n",
       "</table>\n",
       "</div>"
      ],
      "text/plain": [
       "      tconst primary_title original_title  start_year  runtime_minutes  \\\n",
       "0  tt0063540     Sunghursh      Sunghursh        2013            175.0   \n",
       "\n",
       "               genres  \n",
       "0  Action,Crime,Drama  "
      ]
     },
     "execution_count": 3,
     "metadata": {},
     "output_type": "execute_result"
    }
   ],
   "source": [
    "# Start investigating the data sets using .head(1) to see only the first row of the DataFrame\n",
    "df_basics.head(1)"
   ]
  },
  {
   "cell_type": "code",
   "execution_count": 4,
   "metadata": {
    "scrolled": true
   },
   "outputs": [
    {
     "data": {
      "text/plain": [
       "(146144, 6)"
      ]
     },
     "execution_count": 4,
     "metadata": {},
     "output_type": "execute_result"
    }
   ],
   "source": [
    "# Using .shape to see understand the DataFrame's dimmensions\n",
    "df_basics.shape"
   ]
  },
  {
   "cell_type": "markdown",
   "metadata": {},
   "source": [
    "### 2.2 imdb.title.ratings.csv  imported as df_ratings"
   ]
  },
  {
   "cell_type": "code",
   "execution_count": 5,
   "metadata": {
    "scrolled": true
   },
   "outputs": [
    {
     "data": {
      "text/html": [
       "<div>\n",
       "<style scoped>\n",
       "    .dataframe tbody tr th:only-of-type {\n",
       "        vertical-align: middle;\n",
       "    }\n",
       "\n",
       "    .dataframe tbody tr th {\n",
       "        vertical-align: top;\n",
       "    }\n",
       "\n",
       "    .dataframe thead th {\n",
       "        text-align: right;\n",
       "    }\n",
       "</style>\n",
       "<table border=\"1\" class=\"dataframe\">\n",
       "  <thead>\n",
       "    <tr style=\"text-align: right;\">\n",
       "      <th></th>\n",
       "      <th>tconst</th>\n",
       "      <th>averagerating</th>\n",
       "      <th>numvotes</th>\n",
       "    </tr>\n",
       "  </thead>\n",
       "  <tbody>\n",
       "    <tr>\n",
       "      <th>0</th>\n",
       "      <td>tt10356526</td>\n",
       "      <td>8.3</td>\n",
       "      <td>31</td>\n",
       "    </tr>\n",
       "  </tbody>\n",
       "</table>\n",
       "</div>"
      ],
      "text/plain": [
       "       tconst  averagerating  numvotes\n",
       "0  tt10356526            8.3        31"
      ]
     },
     "execution_count": 5,
     "metadata": {},
     "output_type": "execute_result"
    }
   ],
   "source": [
    "df_ratings.head(1)"
   ]
  },
  {
   "cell_type": "code",
   "execution_count": 6,
   "metadata": {},
   "outputs": [
    {
     "data": {
      "text/plain": [
       "(73856, 3)"
      ]
     },
     "execution_count": 6,
     "metadata": {},
     "output_type": "execute_result"
    }
   ],
   "source": [
    "df_ratings.shape"
   ]
  },
  {
   "cell_type": "markdown",
   "metadata": {},
   "source": [
    "### 2.3 imdb.title.ratings.csv.gz imported as df_akas"
   ]
  },
  {
   "cell_type": "code",
   "execution_count": 7,
   "metadata": {
    "scrolled": true
   },
   "outputs": [
    {
     "data": {
      "text/html": [
       "<div>\n",
       "<style scoped>\n",
       "    .dataframe tbody tr th:only-of-type {\n",
       "        vertical-align: middle;\n",
       "    }\n",
       "\n",
       "    .dataframe tbody tr th {\n",
       "        vertical-align: top;\n",
       "    }\n",
       "\n",
       "    .dataframe thead th {\n",
       "        text-align: right;\n",
       "    }\n",
       "</style>\n",
       "<table border=\"1\" class=\"dataframe\">\n",
       "  <thead>\n",
       "    <tr style=\"text-align: right;\">\n",
       "      <th></th>\n",
       "      <th>title_id</th>\n",
       "      <th>ordering</th>\n",
       "      <th>title</th>\n",
       "      <th>region</th>\n",
       "      <th>language</th>\n",
       "      <th>types</th>\n",
       "      <th>attributes</th>\n",
       "      <th>is_original_title</th>\n",
       "    </tr>\n",
       "  </thead>\n",
       "  <tbody>\n",
       "    <tr>\n",
       "      <th>0</th>\n",
       "      <td>tt0369610</td>\n",
       "      <td>10</td>\n",
       "      <td>Джурасик свят</td>\n",
       "      <td>BG</td>\n",
       "      <td>bg</td>\n",
       "      <td>NaN</td>\n",
       "      <td>NaN</td>\n",
       "      <td>0.0</td>\n",
       "    </tr>\n",
       "  </tbody>\n",
       "</table>\n",
       "</div>"
      ],
      "text/plain": [
       "    title_id  ordering          title region language types attributes  \\\n",
       "0  tt0369610        10  Джурасик свят     BG       bg   NaN        NaN   \n",
       "\n",
       "   is_original_title  \n",
       "0                0.0  "
      ]
     },
     "execution_count": 7,
     "metadata": {},
     "output_type": "execute_result"
    }
   ],
   "source": [
    "df_akas.head(1)"
   ]
  },
  {
   "cell_type": "code",
   "execution_count": 8,
   "metadata": {},
   "outputs": [
    {
     "data": {
      "text/plain": [
       "(331703, 8)"
      ]
     },
     "execution_count": 8,
     "metadata": {},
     "output_type": "execute_result"
    }
   ],
   "source": [
    "df_akas.shape"
   ]
  },
  {
   "cell_type": "markdown",
   "metadata": {},
   "source": [
    "### 2.4 movies_metadata.xlsx imported as df_imdb"
   ]
  },
  {
   "cell_type": "code",
   "execution_count": 9,
   "metadata": {
    "scrolled": false
   },
   "outputs": [
    {
     "data": {
      "text/html": [
       "<div>\n",
       "<style scoped>\n",
       "    .dataframe tbody tr th:only-of-type {\n",
       "        vertical-align: middle;\n",
       "    }\n",
       "\n",
       "    .dataframe tbody tr th {\n",
       "        vertical-align: top;\n",
       "    }\n",
       "\n",
       "    .dataframe thead th {\n",
       "        text-align: right;\n",
       "    }\n",
       "</style>\n",
       "<table border=\"1\" class=\"dataframe\">\n",
       "  <thead>\n",
       "    <tr style=\"text-align: right;\">\n",
       "      <th></th>\n",
       "      <th>adult</th>\n",
       "      <th>belongs_to_collection</th>\n",
       "      <th>budget</th>\n",
       "      <th>genres</th>\n",
       "      <th>homepage</th>\n",
       "      <th>id</th>\n",
       "      <th>imdb_id</th>\n",
       "      <th>original_language</th>\n",
       "      <th>original_title</th>\n",
       "      <th>overview</th>\n",
       "      <th>popularity</th>\n",
       "      <th>poster_path</th>\n",
       "      <th>production_companies</th>\n",
       "      <th>production_countries</th>\n",
       "      <th>release_date</th>\n",
       "      <th>revenue</th>\n",
       "      <th>runtime</th>\n",
       "      <th>spoken_languages</th>\n",
       "      <th>status</th>\n",
       "      <th>tagline</th>\n",
       "      <th>title</th>\n",
       "      <th>video</th>\n",
       "      <th>vote_average</th>\n",
       "      <th>vote_count</th>\n",
       "    </tr>\n",
       "  </thead>\n",
       "  <tbody>\n",
       "    <tr>\n",
       "      <th>0</th>\n",
       "      <td>False</td>\n",
       "      <td>NaN</td>\n",
       "      <td>0</td>\n",
       "      <td>[{'id': 80, 'name': 'Crime'}, {'id': 18, 'name...</td>\n",
       "      <td>NaN</td>\n",
       "      <td>190269</td>\n",
       "      <td>tt0020217</td>\n",
       "      <td>en</td>\n",
       "      <td>New York Nights</td>\n",
       "      <td>Show girl Jill Deverne is married to song writ...</td>\n",
       "      <td>0.657513</td>\n",
       "      <td>/8Af9KCVMLXY9baR5CfilAms9OT2.jpg</td>\n",
       "      <td>[{'name': 'Joseph M. Schenck Production', 'id'...</td>\n",
       "      <td>[{'iso_3166_1': 'US', 'name': 'United States o...</td>\n",
       "      <td>2029-12-28</td>\n",
       "      <td>0</td>\n",
       "      <td>82.0</td>\n",
       "      <td>[{'iso_639_1': 'en', 'name': 'English'}]</td>\n",
       "      <td>Released</td>\n",
       "      <td>NaN</td>\n",
       "      <td>New York Nights</td>\n",
       "      <td>False</td>\n",
       "      <td>0.0</td>\n",
       "      <td>0</td>\n",
       "    </tr>\n",
       "  </tbody>\n",
       "</table>\n",
       "</div>"
      ],
      "text/plain": [
       "   adult belongs_to_collection  budget  \\\n",
       "0  False                   NaN       0   \n",
       "\n",
       "                                              genres homepage      id  \\\n",
       "0  [{'id': 80, 'name': 'Crime'}, {'id': 18, 'name...      NaN  190269   \n",
       "\n",
       "     imdb_id original_language   original_title  \\\n",
       "0  tt0020217                en  New York Nights   \n",
       "\n",
       "                                            overview  popularity  \\\n",
       "0  Show girl Jill Deverne is married to song writ...    0.657513   \n",
       "\n",
       "                        poster_path  \\\n",
       "0  /8Af9KCVMLXY9baR5CfilAms9OT2.jpg   \n",
       "\n",
       "                                production_companies  \\\n",
       "0  [{'name': 'Joseph M. Schenck Production', 'id'...   \n",
       "\n",
       "                                production_countries release_date  revenue  \\\n",
       "0  [{'iso_3166_1': 'US', 'name': 'United States o...   2029-12-28        0   \n",
       "\n",
       "   runtime                          spoken_languages    status tagline  \\\n",
       "0     82.0  [{'iso_639_1': 'en', 'name': 'English'}]  Released     NaN   \n",
       "\n",
       "             title  video  vote_average  vote_count  \n",
       "0  New York Nights  False           0.0           0  "
      ]
     },
     "execution_count": 9,
     "metadata": {},
     "output_type": "execute_result"
    }
   ],
   "source": [
    "df_imdb.head(1)"
   ]
  },
  {
   "cell_type": "code",
   "execution_count": 10,
   "metadata": {
    "scrolled": true
   },
   "outputs": [
    {
     "data": {
      "text/plain": [
       "(30379, 24)"
      ]
     },
     "execution_count": 10,
     "metadata": {},
     "output_type": "execute_result"
    }
   ],
   "source": [
    "df_imdb.shape"
   ]
  },
  {
   "cell_type": "code",
   "execution_count": 11,
   "metadata": {
    "scrolled": true
   },
   "outputs": [
    {
     "data": {
      "text/html": [
       "<div>\n",
       "<style scoped>\n",
       "    .dataframe tbody tr th:only-of-type {\n",
       "        vertical-align: middle;\n",
       "    }\n",
       "\n",
       "    .dataframe tbody tr th {\n",
       "        vertical-align: top;\n",
       "    }\n",
       "\n",
       "    .dataframe thead th {\n",
       "        text-align: right;\n",
       "    }\n",
       "</style>\n",
       "<table border=\"1\" class=\"dataframe\">\n",
       "  <thead>\n",
       "    <tr style=\"text-align: right;\">\n",
       "      <th></th>\n",
       "      <th>adult</th>\n",
       "      <th>belongs_to_collection</th>\n",
       "      <th>budget</th>\n",
       "      <th>genres</th>\n",
       "      <th>homepage</th>\n",
       "      <th>id</th>\n",
       "      <th>imdb_id</th>\n",
       "      <th>original_language</th>\n",
       "      <th>original_title</th>\n",
       "      <th>overview</th>\n",
       "      <th>popularity</th>\n",
       "      <th>poster_path</th>\n",
       "      <th>production_companies</th>\n",
       "      <th>production_countries</th>\n",
       "      <th>release_date</th>\n",
       "      <th>revenue</th>\n",
       "      <th>runtime</th>\n",
       "      <th>spoken_languages</th>\n",
       "      <th>status</th>\n",
       "      <th>tagline</th>\n",
       "      <th>title</th>\n",
       "      <th>video</th>\n",
       "      <th>vote_average</th>\n",
       "      <th>vote_count</th>\n",
       "    </tr>\n",
       "  </thead>\n",
       "  <tbody>\n",
       "    <tr>\n",
       "      <th>26221</th>\n",
       "      <td>False</td>\n",
       "      <td>NaN</td>\n",
       "      <td>200000000</td>\n",
       "      <td>[{'id': 18, 'name': 'Drama'}, {'id': 10749, 'n...</td>\n",
       "      <td>http://www.titanicmovie.com</td>\n",
       "      <td>597</td>\n",
       "      <td>tt0120338</td>\n",
       "      <td>en</td>\n",
       "      <td>Titanic</td>\n",
       "      <td>84 years later, a 101-year-old woman named Ros...</td>\n",
       "      <td>26.889070</td>\n",
       "      <td>/kHXEpyfl6zqn8a6YuozZUujufXf.jpg</td>\n",
       "      <td>[{'name': 'Paramount Pictures', 'id': 4}, {'na...</td>\n",
       "      <td>[{'iso_3166_1': 'US', 'name': 'United States o...</td>\n",
       "      <td>1997-11-18</td>\n",
       "      <td>1845034188</td>\n",
       "      <td>194.0</td>\n",
       "      <td>[{'iso_639_1': 'en', 'name': 'English'}, {'iso...</td>\n",
       "      <td>Released</td>\n",
       "      <td>Nothing on Earth could come between them.</td>\n",
       "      <td>Titanic</td>\n",
       "      <td>False</td>\n",
       "      <td>7.5</td>\n",
       "      <td>7770</td>\n",
       "    </tr>\n",
       "    <tr>\n",
       "      <th>26889</th>\n",
       "      <td>False</td>\n",
       "      <td>NaN</td>\n",
       "      <td>13000000</td>\n",
       "      <td>[{'id': 28, 'name': 'Action'}, {'id': 18, 'nam...</td>\n",
       "      <td>NaN</td>\n",
       "      <td>2699</td>\n",
       "      <td>tt0115392</td>\n",
       "      <td>en</td>\n",
       "      <td>Titanic</td>\n",
       "      <td>A story of the romances of two couples upon th...</td>\n",
       "      <td>3.435807</td>\n",
       "      <td>/AosgVsKPbLctVQ8hd8shEj7LJrZ.jpg</td>\n",
       "      <td>[{'name': 'American Zoetrope', 'id': 70}]</td>\n",
       "      <td>[{'iso_3166_1': 'CA', 'name': 'Canada'}, {'iso...</td>\n",
       "      <td>1996-11-17</td>\n",
       "      <td>0</td>\n",
       "      <td>173.0</td>\n",
       "      <td>[{'iso_639_1': 'en', 'name': 'English'}]</td>\n",
       "      <td>Released</td>\n",
       "      <td>NaN</td>\n",
       "      <td>Titanic</td>\n",
       "      <td>False</td>\n",
       "      <td>6.3</td>\n",
       "      <td>45</td>\n",
       "    </tr>\n",
       "  </tbody>\n",
       "</table>\n",
       "</div>"
      ],
      "text/plain": [
       "       adult belongs_to_collection     budget  \\\n",
       "26221  False                   NaN  200000000   \n",
       "26889  False                   NaN   13000000   \n",
       "\n",
       "                                                  genres  \\\n",
       "26221  [{'id': 18, 'name': 'Drama'}, {'id': 10749, 'n...   \n",
       "26889  [{'id': 28, 'name': 'Action'}, {'id': 18, 'nam...   \n",
       "\n",
       "                          homepage    id    imdb_id original_language  \\\n",
       "26221  http://www.titanicmovie.com   597  tt0120338                en   \n",
       "26889                          NaN  2699  tt0115392                en   \n",
       "\n",
       "      original_title                                           overview  \\\n",
       "26221        Titanic  84 years later, a 101-year-old woman named Ros...   \n",
       "26889        Titanic  A story of the romances of two couples upon th...   \n",
       "\n",
       "       popularity                       poster_path  \\\n",
       "26221   26.889070  /kHXEpyfl6zqn8a6YuozZUujufXf.jpg   \n",
       "26889    3.435807  /AosgVsKPbLctVQ8hd8shEj7LJrZ.jpg   \n",
       "\n",
       "                                    production_companies  \\\n",
       "26221  [{'name': 'Paramount Pictures', 'id': 4}, {'na...   \n",
       "26889          [{'name': 'American Zoetrope', 'id': 70}]   \n",
       "\n",
       "                                    production_countries release_date  \\\n",
       "26221  [{'iso_3166_1': 'US', 'name': 'United States o...   1997-11-18   \n",
       "26889  [{'iso_3166_1': 'CA', 'name': 'Canada'}, {'iso...   1996-11-17   \n",
       "\n",
       "          revenue  runtime                                   spoken_languages  \\\n",
       "26221  1845034188    194.0  [{'iso_639_1': 'en', 'name': 'English'}, {'iso...   \n",
       "26889           0    173.0           [{'iso_639_1': 'en', 'name': 'English'}]   \n",
       "\n",
       "         status                                    tagline    title  video  \\\n",
       "26221  Released  Nothing on Earth could come between them.  Titanic  False   \n",
       "26889  Released                                        NaN  Titanic  False   \n",
       "\n",
       "       vote_average  vote_count  \n",
       "26221           7.5        7770  \n",
       "26889           6.3          45  "
      ]
     },
     "execution_count": 11,
     "metadata": {},
     "output_type": "execute_result"
    }
   ],
   "source": [
    "df_imdb[df_imdb['original_title'] =='Titanic']"
   ]
  },
  {
   "cell_type": "markdown",
   "metadata": {},
   "source": [
    "### 2.5 IMDb-movies.xlsx imported as df_movies"
   ]
  },
  {
   "cell_type": "code",
   "execution_count": 12,
   "metadata": {
    "scrolled": true
   },
   "outputs": [
    {
     "data": {
      "text/html": [
       "<div>\n",
       "<style scoped>\n",
       "    .dataframe tbody tr th:only-of-type {\n",
       "        vertical-align: middle;\n",
       "    }\n",
       "\n",
       "    .dataframe tbody tr th {\n",
       "        vertical-align: top;\n",
       "    }\n",
       "\n",
       "    .dataframe thead th {\n",
       "        text-align: right;\n",
       "    }\n",
       "</style>\n",
       "<table border=\"1\" class=\"dataframe\">\n",
       "  <thead>\n",
       "    <tr style=\"text-align: right;\">\n",
       "      <th></th>\n",
       "      <th>imdb_title_id</th>\n",
       "      <th>title</th>\n",
       "      <th>original_title</th>\n",
       "      <th>year</th>\n",
       "      <th>date_published</th>\n",
       "      <th>genre</th>\n",
       "      <th>duration</th>\n",
       "      <th>country</th>\n",
       "      <th>language</th>\n",
       "      <th>director</th>\n",
       "      <th>writer</th>\n",
       "      <th>production_company</th>\n",
       "      <th>actors</th>\n",
       "      <th>description</th>\n",
       "      <th>avg_vote</th>\n",
       "      <th>votes</th>\n",
       "      <th>budget</th>\n",
       "      <th>usa_gross_income</th>\n",
       "      <th>worlwide_gross_income</th>\n",
       "      <th>metascore</th>\n",
       "      <th>reviews_from_users</th>\n",
       "      <th>reviews_from_critics</th>\n",
       "    </tr>\n",
       "  </thead>\n",
       "  <tbody>\n",
       "    <tr>\n",
       "      <th>0</th>\n",
       "      <td>tt0420715</td>\n",
       "      <td>Khakestar-o-khak</td>\n",
       "      <td>Khakestar-o-khak</td>\n",
       "      <td>2004</td>\n",
       "      <td>2005-01-05 00:00:00</td>\n",
       "      <td>Drama</td>\n",
       "      <td>102</td>\n",
       "      <td>Afghanistan, France</td>\n",
       "      <td>Dari, Pushto</td>\n",
       "      <td>Atiq Rahimi</td>\n",
       "      <td>Kambuzia Partovi, Atiq Rahimi</td>\n",
       "      <td>Afghanfilm</td>\n",
       "      <td>Abdul Ghani, Jawan Mard Homayoun, Sher Agah, K...</td>\n",
       "      <td>Elderly Dastaguir and his newly deaf 5-year-ol...</td>\n",
       "      <td>7.8</td>\n",
       "      <td>448</td>\n",
       "      <td>NaN</td>\n",
       "      <td>NaN</td>\n",
       "      <td>9530.0</td>\n",
       "      <td>NaN</td>\n",
       "      <td>3.0</td>\n",
       "      <td>10.0</td>\n",
       "    </tr>\n",
       "  </tbody>\n",
       "</table>\n",
       "</div>"
      ],
      "text/plain": [
       "  imdb_title_id             title    original_title  year  \\\n",
       "0     tt0420715  Khakestar-o-khak  Khakestar-o-khak  2004   \n",
       "\n",
       "        date_published  genre  duration              country      language  \\\n",
       "0  2005-01-05 00:00:00  Drama       102  Afghanistan, France  Dari, Pushto   \n",
       "\n",
       "      director                         writer production_company  \\\n",
       "0  Atiq Rahimi  Kambuzia Partovi, Atiq Rahimi         Afghanfilm   \n",
       "\n",
       "                                              actors  \\\n",
       "0  Abdul Ghani, Jawan Mard Homayoun, Sher Agah, K...   \n",
       "\n",
       "                                         description  avg_vote  votes  budget  \\\n",
       "0  Elderly Dastaguir and his newly deaf 5-year-ol...       7.8    448     NaN   \n",
       "\n",
       "  usa_gross_income  worlwide_gross_income  metascore  reviews_from_users  \\\n",
       "0              NaN                 9530.0        NaN                 3.0   \n",
       "\n",
       "   reviews_from_critics  \n",
       "0                  10.0  "
      ]
     },
     "execution_count": 12,
     "metadata": {},
     "output_type": "execute_result"
    }
   ],
   "source": [
    "df_movies.head(1)"
   ]
  },
  {
   "cell_type": "code",
   "execution_count": 13,
   "metadata": {},
   "outputs": [
    {
     "data": {
      "text/plain": [
       "(85854, 22)"
      ]
     },
     "execution_count": 13,
     "metadata": {},
     "output_type": "execute_result"
    }
   ],
   "source": [
    "df_movies.shape"
   ]
  },
  {
   "cell_type": "markdown",
   "metadata": {},
   "source": [
    "### Findings:\n",
    "\n",
    "- The data I need is spread in multiple DataFrames\n",
    "- The IMDb data sets have an ID number, which will help me to merge my the DataFrames\n",
    "- There are multiple columns that will not be needed and multiple rows with empty values\n",
    "- The df_movies and df_imdb DataFrames is taking a few seconds to load\n",
    "\n",
    "### Next Steps:\n",
    "\n",
    "- Since Microsoft is an American company, only movies made by American studios will be used."
   ]
  },
  {
   "cell_type": "markdown",
   "metadata": {},
   "source": [
    "# 3. Cleaning the Data\n",
    "\n",
    "- Rename columns\n",
    "- Set new indexes\n",
    "- Merge DataFrames\n",
    "- Remove data that I will not need\n",
    "\n",
    "### 3.1 Rename Columns\n",
    "\n",
    "- Create a pattern between the DataFrames that contains a columns with an IMDb ID number and have name them imdb_id"
   ]
  },
  {
   "cell_type": "code",
   "execution_count": 14,
   "metadata": {
    "scrolled": true
   },
   "outputs": [],
   "source": [
    "# Use .rename to rename columns\n",
    "df_basics.rename(columns={'tconst':'imdb_id'}, inplace=True)\n",
    "df_akas.rename(columns={'title_id':'imdb_id'}, inplace=True)\n",
    "df_ratings.rename(columns={'tconst':'imdb_id'}, inplace=True)\n",
    "df_movies.rename(columns={'imdb_title_id':'imdb_id'}, inplace=True)"
   ]
  },
  {
   "cell_type": "markdown",
   "metadata": {},
   "source": [
    "### 3.2 Set and match indexes\n",
    "- Set all the imdb_id columns as index. It will help when these DataFrames are merged together"
   ]
  },
  {
   "cell_type": "code",
   "execution_count": 15,
   "metadata": {},
   "outputs": [],
   "source": [
    "# Use .set_index to set imdb_id as the new index\n",
    "df_basics.set_index('imdb_id', inplace=True)\n",
    "df_ratings.set_index('imdb_id', inplace=True)\n",
    "df_akas.set_index('imdb_id', inplace=True)\n",
    "df_imdb.set_index('imdb_id', inplace=True)\n",
    "df_movies.set_index('imdb_id', inplace=True)"
   ]
  },
  {
   "cell_type": "markdown",
   "metadata": {},
   "source": [
    "### 3.3 Join DataFrames"
   ]
  },
  {
   "cell_type": "code",
   "execution_count": 16,
   "metadata": {},
   "outputs": [
    {
     "data": {
      "text/html": [
       "<div>\n",
       "<style scoped>\n",
       "    .dataframe tbody tr th:only-of-type {\n",
       "        vertical-align: middle;\n",
       "    }\n",
       "\n",
       "    .dataframe tbody tr th {\n",
       "        vertical-align: top;\n",
       "    }\n",
       "\n",
       "    .dataframe thead th {\n",
       "        text-align: right;\n",
       "    }\n",
       "</style>\n",
       "<table border=\"1\" class=\"dataframe\">\n",
       "  <thead>\n",
       "    <tr style=\"text-align: right;\">\n",
       "      <th></th>\n",
       "      <th>primary_title</th>\n",
       "      <th>original_title</th>\n",
       "      <th>start_year</th>\n",
       "      <th>runtime_minutes</th>\n",
       "      <th>genres</th>\n",
       "      <th>ordering</th>\n",
       "      <th>title</th>\n",
       "      <th>region</th>\n",
       "      <th>language</th>\n",
       "      <th>types</th>\n",
       "      <th>attributes</th>\n",
       "      <th>is_original_title</th>\n",
       "    </tr>\n",
       "    <tr>\n",
       "      <th>imdb_id</th>\n",
       "      <th></th>\n",
       "      <th></th>\n",
       "      <th></th>\n",
       "      <th></th>\n",
       "      <th></th>\n",
       "      <th></th>\n",
       "      <th></th>\n",
       "      <th></th>\n",
       "      <th></th>\n",
       "      <th></th>\n",
       "      <th></th>\n",
       "      <th></th>\n",
       "    </tr>\n",
       "  </thead>\n",
       "  <tbody>\n",
       "    <tr>\n",
       "      <th>tt0063540</th>\n",
       "      <td>Sunghursh</td>\n",
       "      <td>Sunghursh</td>\n",
       "      <td>2013</td>\n",
       "      <td>175.0</td>\n",
       "      <td>Action,Crime,Drama</td>\n",
       "      <td>1.0</td>\n",
       "      <td>Sangharsh</td>\n",
       "      <td>IN</td>\n",
       "      <td>hi</td>\n",
       "      <td>NaN</td>\n",
       "      <td>alternative transliteration</td>\n",
       "      <td>0.0</td>\n",
       "    </tr>\n",
       "  </tbody>\n",
       "</table>\n",
       "</div>"
      ],
      "text/plain": [
       "          primary_title original_title  start_year  runtime_minutes  \\\n",
       "imdb_id                                                               \n",
       "tt0063540     Sunghursh      Sunghursh        2013            175.0   \n",
       "\n",
       "                       genres  ordering      title region language types  \\\n",
       "imdb_id                                                                    \n",
       "tt0063540  Action,Crime,Drama       1.0  Sangharsh     IN       hi   NaN   \n",
       "\n",
       "                            attributes  is_original_title  \n",
       "imdb_id                                                    \n",
       "tt0063540  alternative transliteration                0.0  "
      ]
     },
     "execution_count": 16,
     "metadata": {},
     "output_type": "execute_result"
    }
   ],
   "source": [
    "# Joining the df_basics and df_akas dataframes. 'df_ba' stands for DataFrame Basics & Akas\n",
    "df_ba = df_basics.join(df_akas)\n",
    "df_ba.head(1)"
   ]
  },
  {
   "cell_type": "code",
   "execution_count": 17,
   "metadata": {
    "scrolled": false
   },
   "outputs": [
    {
     "data": {
      "text/html": [
       "<div>\n",
       "<style scoped>\n",
       "    .dataframe tbody tr th:only-of-type {\n",
       "        vertical-align: middle;\n",
       "    }\n",
       "\n",
       "    .dataframe tbody tr th {\n",
       "        vertical-align: top;\n",
       "    }\n",
       "\n",
       "    .dataframe thead th {\n",
       "        text-align: right;\n",
       "    }\n",
       "</style>\n",
       "<table border=\"1\" class=\"dataframe\">\n",
       "  <thead>\n",
       "    <tr style=\"text-align: right;\">\n",
       "      <th></th>\n",
       "      <th>primary_title</th>\n",
       "      <th>original_title</th>\n",
       "      <th>start_year</th>\n",
       "      <th>runtime_minutes</th>\n",
       "      <th>genres</th>\n",
       "      <th>ordering</th>\n",
       "      <th>title</th>\n",
       "      <th>region</th>\n",
       "      <th>language</th>\n",
       "      <th>types</th>\n",
       "      <th>attributes</th>\n",
       "      <th>is_original_title</th>\n",
       "      <th>averagerating</th>\n",
       "      <th>numvotes</th>\n",
       "    </tr>\n",
       "    <tr>\n",
       "      <th>imdb_id</th>\n",
       "      <th></th>\n",
       "      <th></th>\n",
       "      <th></th>\n",
       "      <th></th>\n",
       "      <th></th>\n",
       "      <th></th>\n",
       "      <th></th>\n",
       "      <th></th>\n",
       "      <th></th>\n",
       "      <th></th>\n",
       "      <th></th>\n",
       "      <th></th>\n",
       "      <th></th>\n",
       "      <th></th>\n",
       "    </tr>\n",
       "  </thead>\n",
       "  <tbody>\n",
       "    <tr>\n",
       "      <th>tt0063540</th>\n",
       "      <td>Sunghursh</td>\n",
       "      <td>Sunghursh</td>\n",
       "      <td>2013</td>\n",
       "      <td>175.0</td>\n",
       "      <td>Action,Crime,Drama</td>\n",
       "      <td>1.0</td>\n",
       "      <td>Sangharsh</td>\n",
       "      <td>IN</td>\n",
       "      <td>hi</td>\n",
       "      <td>NaN</td>\n",
       "      <td>alternative transliteration</td>\n",
       "      <td>0.0</td>\n",
       "      <td>7.0</td>\n",
       "      <td>77.0</td>\n",
       "    </tr>\n",
       "  </tbody>\n",
       "</table>\n",
       "</div>"
      ],
      "text/plain": [
       "          primary_title original_title  start_year  runtime_minutes  \\\n",
       "imdb_id                                                               \n",
       "tt0063540     Sunghursh      Sunghursh        2013            175.0   \n",
       "\n",
       "                       genres  ordering      title region language types  \\\n",
       "imdb_id                                                                    \n",
       "tt0063540  Action,Crime,Drama       1.0  Sangharsh     IN       hi   NaN   \n",
       "\n",
       "                            attributes  is_original_title  averagerating  \\\n",
       "imdb_id                                                                    \n",
       "tt0063540  alternative transliteration                0.0            7.0   \n",
       "\n",
       "           numvotes  \n",
       "imdb_id              \n",
       "tt0063540      77.0  "
      ]
     },
     "execution_count": 17,
     "metadata": {},
     "output_type": "execute_result"
    }
   ],
   "source": [
    "# Joining the df_ba and df_ratings dataframes. 'bar' stands for DataFrame Basics, Akas & Ratings\n",
    "df_bar = df_ba.join(df_ratings)\n",
    "df_bar.head(1)"
   ]
  },
  {
   "cell_type": "markdown",
   "metadata": {},
   "source": [
    "### 3.4 Drop all movies that weren't produced by studios in the US\n",
    "\n",
    "Note: Since Microsoft is an American company and the US is the largest market for movies, I will work only with movies produced in the US."
   ]
  },
  {
   "cell_type": "code",
   "execution_count": 18,
   "metadata": {},
   "outputs": [
    {
     "name": "stdout",
     "output_type": "stream",
     "text": [
      "(355545, 14)\n",
      "(51490, 14)\n"
     ]
    }
   ],
   "source": [
    "# Using print(x.shape) to see the dimmensions of more than one DataFrame at once\n",
    "print(df_bar.shape)\n",
    "# Checking the size of the DataFrame if I filter all the rows that don't contain 'US' under region\n",
    "print(df_bar[df_bar.region == 'US'].shape)"
   ]
  },
  {
   "cell_type": "code",
   "execution_count": 19,
   "metadata": {},
   "outputs": [
    {
     "data": {
      "text/plain": [
       "(51490, 14)"
      ]
     },
     "execution_count": 19,
     "metadata": {},
     "output_type": "execute_result"
    }
   ],
   "source": [
    "# Filtering out all rows that don't contain 'US' under 'region'\n",
    "df_bar = df_bar[df_bar.region == 'US']\n",
    "# Checking the shape. It matches to what was predicted in the cell above\n",
    "df_bar.shape"
   ]
  },
  {
   "cell_type": "code",
   "execution_count": 20,
   "metadata": {
    "scrolled": true
   },
   "outputs": [
    {
     "name": "stdout",
     "output_type": "stream",
     "text": [
      "(51490, 14)\n",
      "(85854, 21)\n",
      "(30909, 21)\n"
     ]
    }
   ],
   "source": [
    "print(df_bar.shape)\n",
    "print(df_movies.shape)\n",
    "# Checking the size of the DataFrame if I filter all the rows that don't contain 'USA' under country\n",
    "print(df_movies[df_movies.country == 'USA'].shape)"
   ]
  },
  {
   "cell_type": "code",
   "execution_count": 21,
   "metadata": {},
   "outputs": [
    {
     "data": {
      "text/plain": [
       "(30909, 21)"
      ]
     },
     "execution_count": 21,
     "metadata": {},
     "output_type": "execute_result"
    }
   ],
   "source": [
    "# Filtering out all rows that don't contain 'US' under 'region'\n",
    "df_movies = df_movies[df_movies.country == 'USA']\n",
    "df_movies.shape"
   ]
  },
  {
   "cell_type": "code",
   "execution_count": 22,
   "metadata": {},
   "outputs": [],
   "source": [
    "# Joining df_movies and df_bar and using rsuffic to avoid conflicts between columns with the same name\n",
    "df_mbar = df_movies.join(df_bar,rsuffix='_bar')"
   ]
  },
  {
   "cell_type": "code",
   "execution_count": 23,
   "metadata": {
    "scrolled": true
   },
   "outputs": [
    {
     "data": {
      "text/html": [
       "<div>\n",
       "<style scoped>\n",
       "    .dataframe tbody tr th:only-of-type {\n",
       "        vertical-align: middle;\n",
       "    }\n",
       "\n",
       "    .dataframe tbody tr th {\n",
       "        vertical-align: top;\n",
       "    }\n",
       "\n",
       "    .dataframe thead th {\n",
       "        text-align: right;\n",
       "    }\n",
       "</style>\n",
       "<table border=\"1\" class=\"dataframe\">\n",
       "  <thead>\n",
       "    <tr style=\"text-align: right;\">\n",
       "      <th></th>\n",
       "      <th>title</th>\n",
       "      <th>original_title</th>\n",
       "      <th>year</th>\n",
       "      <th>date_published</th>\n",
       "      <th>genre</th>\n",
       "      <th>duration</th>\n",
       "      <th>country</th>\n",
       "      <th>language</th>\n",
       "      <th>director</th>\n",
       "      <th>writer</th>\n",
       "      <th>production_company</th>\n",
       "      <th>actors</th>\n",
       "      <th>description</th>\n",
       "      <th>avg_vote</th>\n",
       "      <th>votes</th>\n",
       "      <th>budget</th>\n",
       "      <th>usa_gross_income</th>\n",
       "      <th>worlwide_gross_income</th>\n",
       "      <th>metascore</th>\n",
       "      <th>reviews_from_users</th>\n",
       "      <th>reviews_from_critics</th>\n",
       "      <th>primary_title</th>\n",
       "      <th>original_title_bar</th>\n",
       "      <th>start_year</th>\n",
       "      <th>runtime_minutes</th>\n",
       "      <th>genres</th>\n",
       "      <th>ordering</th>\n",
       "      <th>title_bar</th>\n",
       "      <th>region</th>\n",
       "      <th>language_bar</th>\n",
       "      <th>types</th>\n",
       "      <th>attributes</th>\n",
       "      <th>is_original_title</th>\n",
       "      <th>averagerating</th>\n",
       "      <th>numvotes</th>\n",
       "    </tr>\n",
       "    <tr>\n",
       "      <th>imdb_id</th>\n",
       "      <th></th>\n",
       "      <th></th>\n",
       "      <th></th>\n",
       "      <th></th>\n",
       "      <th></th>\n",
       "      <th></th>\n",
       "      <th></th>\n",
       "      <th></th>\n",
       "      <th></th>\n",
       "      <th></th>\n",
       "      <th></th>\n",
       "      <th></th>\n",
       "      <th></th>\n",
       "      <th></th>\n",
       "      <th></th>\n",
       "      <th></th>\n",
       "      <th></th>\n",
       "      <th></th>\n",
       "      <th></th>\n",
       "      <th></th>\n",
       "      <th></th>\n",
       "      <th></th>\n",
       "      <th></th>\n",
       "      <th></th>\n",
       "      <th></th>\n",
       "      <th></th>\n",
       "      <th></th>\n",
       "      <th></th>\n",
       "      <th></th>\n",
       "      <th></th>\n",
       "      <th></th>\n",
       "      <th></th>\n",
       "      <th></th>\n",
       "      <th></th>\n",
       "      <th></th>\n",
       "    </tr>\n",
       "  </thead>\n",
       "  <tbody>\n",
       "    <tr>\n",
       "      <th>tt0000009</th>\n",
       "      <td>Miss Jerry</td>\n",
       "      <td>Miss Jerry</td>\n",
       "      <td>1894</td>\n",
       "      <td>1894-10-09</td>\n",
       "      <td>Romance</td>\n",
       "      <td>45</td>\n",
       "      <td>USA</td>\n",
       "      <td>None</td>\n",
       "      <td>Alexander Black</td>\n",
       "      <td>Alexander Black</td>\n",
       "      <td>Alexander Black Photoplays</td>\n",
       "      <td>Blanche Bayliss, William Courtenay, Chauncey D...</td>\n",
       "      <td>The adventures of a female reporter in the 1890s.</td>\n",
       "      <td>5.9</td>\n",
       "      <td>154</td>\n",
       "      <td>NaN</td>\n",
       "      <td>NaN</td>\n",
       "      <td>NaN</td>\n",
       "      <td>NaN</td>\n",
       "      <td>1.0</td>\n",
       "      <td>2.0</td>\n",
       "      <td>NaN</td>\n",
       "      <td>NaN</td>\n",
       "      <td>NaN</td>\n",
       "      <td>NaN</td>\n",
       "      <td>NaN</td>\n",
       "      <td>NaN</td>\n",
       "      <td>NaN</td>\n",
       "      <td>NaN</td>\n",
       "      <td>NaN</td>\n",
       "      <td>NaN</td>\n",
       "      <td>NaN</td>\n",
       "      <td>NaN</td>\n",
       "      <td>NaN</td>\n",
       "      <td>NaN</td>\n",
       "    </tr>\n",
       "  </tbody>\n",
       "</table>\n",
       "</div>"
      ],
      "text/plain": [
       "                title original_title  year date_published    genre  duration  \\\n",
       "imdb_id                                                                        \n",
       "tt0000009  Miss Jerry     Miss Jerry  1894     1894-10-09  Romance        45   \n",
       "\n",
       "          country language         director           writer  \\\n",
       "imdb_id                                                        \n",
       "tt0000009     USA     None  Alexander Black  Alexander Black   \n",
       "\n",
       "                   production_company  \\\n",
       "imdb_id                                 \n",
       "tt0000009  Alexander Black Photoplays   \n",
       "\n",
       "                                                      actors  \\\n",
       "imdb_id                                                        \n",
       "tt0000009  Blanche Bayliss, William Courtenay, Chauncey D...   \n",
       "\n",
       "                                                 description  avg_vote  votes  \\\n",
       "imdb_id                                                                         \n",
       "tt0000009  The adventures of a female reporter in the 1890s.       5.9    154   \n",
       "\n",
       "           budget usa_gross_income  worlwide_gross_income  metascore  \\\n",
       "imdb_id                                                                \n",
       "tt0000009     NaN              NaN                    NaN        NaN   \n",
       "\n",
       "           reviews_from_users  reviews_from_critics primary_title  \\\n",
       "imdb_id                                                             \n",
       "tt0000009                 1.0                   2.0           NaN   \n",
       "\n",
       "          original_title_bar  start_year  runtime_minutes genres  ordering  \\\n",
       "imdb_id                                                                      \n",
       "tt0000009                NaN         NaN              NaN    NaN       NaN   \n",
       "\n",
       "          title_bar region language_bar types attributes  is_original_title  \\\n",
       "imdb_id                                                                       \n",
       "tt0000009       NaN    NaN          NaN   NaN        NaN                NaN   \n",
       "\n",
       "           averagerating  numvotes  \n",
       "imdb_id                             \n",
       "tt0000009            NaN       NaN  "
      ]
     },
     "execution_count": 23,
     "metadata": {},
     "output_type": "execute_result"
    }
   ],
   "source": [
    "# Checking if it worked\n",
    "df_mbar.head(1)"
   ]
  },
  {
   "cell_type": "code",
   "execution_count": 24,
   "metadata": {},
   "outputs": [
    {
     "data": {
      "text/plain": [
       "(33081, 35)"
      ]
     },
     "execution_count": 24,
     "metadata": {},
     "output_type": "execute_result"
    }
   ],
   "source": [
    "# Checking the size of the DataFrame\n",
    "df_mbar.shape"
   ]
  },
  {
   "cell_type": "markdown",
   "metadata": {},
   "source": [
    "Note: the df_imdb has multiple columns with the same name as df_bar. Thus, I create another dataframe with the values that will be needed before merging it with my df_bar dataframe."
   ]
  },
  {
   "cell_type": "code",
   "execution_count": 25,
   "metadata": {
    "scrolled": true
   },
   "outputs": [
    {
     "data": {
      "text/html": [
       "<div>\n",
       "<style scoped>\n",
       "    .dataframe tbody tr th:only-of-type {\n",
       "        vertical-align: middle;\n",
       "    }\n",
       "\n",
       "    .dataframe tbody tr th {\n",
       "        vertical-align: top;\n",
       "    }\n",
       "\n",
       "    .dataframe thead th {\n",
       "        text-align: right;\n",
       "    }\n",
       "</style>\n",
       "<table border=\"1\" class=\"dataframe\">\n",
       "  <thead>\n",
       "    <tr style=\"text-align: right;\">\n",
       "      <th></th>\n",
       "      <th>budget</th>\n",
       "      <th>revenue</th>\n",
       "    </tr>\n",
       "    <tr>\n",
       "      <th>imdb_id</th>\n",
       "      <th></th>\n",
       "      <th></th>\n",
       "    </tr>\n",
       "  </thead>\n",
       "  <tbody>\n",
       "    <tr>\n",
       "      <th>tt0020217</th>\n",
       "      <td>0</td>\n",
       "      <td>0</td>\n",
       "    </tr>\n",
       "  </tbody>\n",
       "</table>\n",
       "</div>"
      ],
      "text/plain": [
       "           budget  revenue\n",
       "imdb_id                   \n",
       "tt0020217       0        0"
      ]
     },
     "execution_count": 25,
     "metadata": {},
     "output_type": "execute_result"
    }
   ],
   "source": [
    "# Create new dataframe with the columns that are relevant. df_br stands for DataFrame Budget & Revenue\n",
    "df_br = df_imdb.filter(['imdb_id','budget','revenue'], axis=1)\n",
    "df_br.head(1)"
   ]
  },
  {
   "cell_type": "code",
   "execution_count": 26,
   "metadata": {
    "scrolled": false
   },
   "outputs": [
    {
     "data": {
      "text/html": [
       "<div>\n",
       "<style scoped>\n",
       "    .dataframe tbody tr th:only-of-type {\n",
       "        vertical-align: middle;\n",
       "    }\n",
       "\n",
       "    .dataframe tbody tr th {\n",
       "        vertical-align: top;\n",
       "    }\n",
       "\n",
       "    .dataframe thead th {\n",
       "        text-align: right;\n",
       "    }\n",
       "</style>\n",
       "<table border=\"1\" class=\"dataframe\">\n",
       "  <thead>\n",
       "    <tr style=\"text-align: right;\">\n",
       "      <th></th>\n",
       "      <th>title</th>\n",
       "      <th>original_title</th>\n",
       "      <th>year</th>\n",
       "      <th>date_published</th>\n",
       "      <th>genre</th>\n",
       "      <th>duration</th>\n",
       "      <th>country</th>\n",
       "      <th>language</th>\n",
       "      <th>director</th>\n",
       "      <th>writer</th>\n",
       "      <th>production_company</th>\n",
       "      <th>actors</th>\n",
       "      <th>description</th>\n",
       "      <th>avg_vote</th>\n",
       "      <th>votes</th>\n",
       "      <th>budget</th>\n",
       "      <th>usa_gross_income</th>\n",
       "      <th>worlwide_gross_income</th>\n",
       "      <th>metascore</th>\n",
       "      <th>reviews_from_users</th>\n",
       "      <th>reviews_from_critics</th>\n",
       "      <th>primary_title</th>\n",
       "      <th>original_title_bar</th>\n",
       "      <th>start_year</th>\n",
       "      <th>runtime_minutes</th>\n",
       "      <th>genres</th>\n",
       "      <th>ordering</th>\n",
       "      <th>title_bar</th>\n",
       "      <th>region</th>\n",
       "      <th>language_bar</th>\n",
       "      <th>types</th>\n",
       "      <th>attributes</th>\n",
       "      <th>is_original_title</th>\n",
       "      <th>averagerating</th>\n",
       "      <th>numvotes</th>\n",
       "      <th>budget_br</th>\n",
       "      <th>revenue</th>\n",
       "    </tr>\n",
       "    <tr>\n",
       "      <th>imdb_id</th>\n",
       "      <th></th>\n",
       "      <th></th>\n",
       "      <th></th>\n",
       "      <th></th>\n",
       "      <th></th>\n",
       "      <th></th>\n",
       "      <th></th>\n",
       "      <th></th>\n",
       "      <th></th>\n",
       "      <th></th>\n",
       "      <th></th>\n",
       "      <th></th>\n",
       "      <th></th>\n",
       "      <th></th>\n",
       "      <th></th>\n",
       "      <th></th>\n",
       "      <th></th>\n",
       "      <th></th>\n",
       "      <th></th>\n",
       "      <th></th>\n",
       "      <th></th>\n",
       "      <th></th>\n",
       "      <th></th>\n",
       "      <th></th>\n",
       "      <th></th>\n",
       "      <th></th>\n",
       "      <th></th>\n",
       "      <th></th>\n",
       "      <th></th>\n",
       "      <th></th>\n",
       "      <th></th>\n",
       "      <th></th>\n",
       "      <th></th>\n",
       "      <th></th>\n",
       "      <th></th>\n",
       "      <th></th>\n",
       "      <th></th>\n",
       "    </tr>\n",
       "  </thead>\n",
       "  <tbody>\n",
       "    <tr>\n",
       "      <th>tt0000009</th>\n",
       "      <td>Miss Jerry</td>\n",
       "      <td>Miss Jerry</td>\n",
       "      <td>1894</td>\n",
       "      <td>1894-10-09</td>\n",
       "      <td>Romance</td>\n",
       "      <td>45</td>\n",
       "      <td>USA</td>\n",
       "      <td>None</td>\n",
       "      <td>Alexander Black</td>\n",
       "      <td>Alexander Black</td>\n",
       "      <td>Alexander Black Photoplays</td>\n",
       "      <td>Blanche Bayliss, William Courtenay, Chauncey D...</td>\n",
       "      <td>The adventures of a female reporter in the 1890s.</td>\n",
       "      <td>5.9</td>\n",
       "      <td>154</td>\n",
       "      <td>NaN</td>\n",
       "      <td>NaN</td>\n",
       "      <td>NaN</td>\n",
       "      <td>NaN</td>\n",
       "      <td>1.0</td>\n",
       "      <td>2.0</td>\n",
       "      <td>NaN</td>\n",
       "      <td>NaN</td>\n",
       "      <td>NaN</td>\n",
       "      <td>NaN</td>\n",
       "      <td>NaN</td>\n",
       "      <td>NaN</td>\n",
       "      <td>NaN</td>\n",
       "      <td>NaN</td>\n",
       "      <td>NaN</td>\n",
       "      <td>NaN</td>\n",
       "      <td>NaN</td>\n",
       "      <td>NaN</td>\n",
       "      <td>NaN</td>\n",
       "      <td>NaN</td>\n",
       "      <td>NaN</td>\n",
       "      <td>NaN</td>\n",
       "    </tr>\n",
       "  </tbody>\n",
       "</table>\n",
       "</div>"
      ],
      "text/plain": [
       "                title original_title  year date_published    genre  duration  \\\n",
       "imdb_id                                                                        \n",
       "tt0000009  Miss Jerry     Miss Jerry  1894     1894-10-09  Romance        45   \n",
       "\n",
       "          country language         director           writer  \\\n",
       "imdb_id                                                        \n",
       "tt0000009     USA     None  Alexander Black  Alexander Black   \n",
       "\n",
       "                   production_company  \\\n",
       "imdb_id                                 \n",
       "tt0000009  Alexander Black Photoplays   \n",
       "\n",
       "                                                      actors  \\\n",
       "imdb_id                                                        \n",
       "tt0000009  Blanche Bayliss, William Courtenay, Chauncey D...   \n",
       "\n",
       "                                                 description  avg_vote  votes  \\\n",
       "imdb_id                                                                         \n",
       "tt0000009  The adventures of a female reporter in the 1890s.       5.9    154   \n",
       "\n",
       "           budget usa_gross_income  worlwide_gross_income  metascore  \\\n",
       "imdb_id                                                                \n",
       "tt0000009     NaN              NaN                    NaN        NaN   \n",
       "\n",
       "           reviews_from_users  reviews_from_critics primary_title  \\\n",
       "imdb_id                                                             \n",
       "tt0000009                 1.0                   2.0           NaN   \n",
       "\n",
       "          original_title_bar  start_year  runtime_minutes genres  ordering  \\\n",
       "imdb_id                                                                      \n",
       "tt0000009                NaN         NaN              NaN    NaN       NaN   \n",
       "\n",
       "          title_bar region language_bar types attributes  is_original_title  \\\n",
       "imdb_id                                                                       \n",
       "tt0000009       NaN    NaN          NaN   NaN        NaN                NaN   \n",
       "\n",
       "           averagerating  numvotes  budget_br  revenue  \n",
       "imdb_id                                                 \n",
       "tt0000009            NaN       NaN        NaN      NaN  "
      ]
     },
     "execution_count": 26,
     "metadata": {},
     "output_type": "execute_result"
    }
   ],
   "source": [
    "# This DataFrame will be the main one. Using rsuffix to avoid conflict between columns with the same name\n",
    "df = df_mbar.join(df_br,rsuffix='_br')\n",
    "df.head(1)"
   ]
  },
  {
   "cell_type": "markdown",
   "metadata": {},
   "source": [
    "### 3.5 Add data to NaN values \n",
    "\n",
    "The objective is to use fillna to add values to rows with NaN values"
   ]
  },
  {
   "cell_type": "code",
   "execution_count": 27,
   "metadata": {},
   "outputs": [
    {
     "data": {
      "text/plain": [
       "title                        1\n",
       "original_title               1\n",
       "year                         0\n",
       "date_published               0\n",
       "genre                        0\n",
       "duration                     0\n",
       "country                      0\n",
       "language                   370\n",
       "director                    36\n",
       "writer                     217\n",
       "production_company        1234\n",
       "actors                      27\n",
       "description                 80\n",
       "avg_vote                     0\n",
       "votes                        0\n",
       "budget                   19809\n",
       "usa_gross_income         22934\n",
       "worlwide_gross_income    22499\n",
       "metascore                23822\n",
       "reviews_from_users         355\n",
       "reviews_from_critics      2044\n",
       "primary_title            22675\n",
       "original_title_bar       22675\n",
       "start_year               22675\n",
       "runtime_minutes          22948\n",
       "genres                   22675\n",
       "ordering                 22675\n",
       "title_bar                22675\n",
       "region                   22675\n",
       "language_bar             32807\n",
       "types                    30643\n",
       "attributes               32287\n",
       "is_original_title        22675\n",
       "averagerating            22916\n",
       "numvotes                 22916\n",
       "budget_br                22768\n",
       "revenue                  22768\n",
       "dtype: int64"
      ]
     },
     "execution_count": 27,
     "metadata": {},
     "output_type": "execute_result"
    }
   ],
   "source": [
    "# Checking null values in the DataFrame\n",
    "df.isna().sum()"
   ]
  },
  {
   "cell_type": "code",
   "execution_count": 28,
   "metadata": {},
   "outputs": [],
   "source": [
    "# Using .fillna() to replace null values with values from another columns\n",
    "df.budget.fillna(df.budget_br,inplace=True)\n",
    "df.worlwide_gross_income.fillna(df.revenue,inplace=True)\n",
    "df.budget_br.fillna(df.budget,inplace=True)\n",
    "df.revenue.fillna(df.worlwide_gross_income,inplace=True)\n",
    "df.genres.fillna(df.genre,inplace=True)\n",
    "df.usa_gross_income .fillna(df.worlwide_gross_income,inplace=True)"
   ]
  },
  {
   "cell_type": "code",
   "execution_count": 29,
   "metadata": {},
   "outputs": [
    {
     "data": {
      "text/plain": [
       "title                        1\n",
       "original_title               1\n",
       "year                         0\n",
       "date_published               0\n",
       "genre                        0\n",
       "duration                     0\n",
       "country                      0\n",
       "language                   370\n",
       "director                    36\n",
       "writer                     217\n",
       "production_company        1234\n",
       "actors                      27\n",
       "description                 80\n",
       "avg_vote                     0\n",
       "votes                        0\n",
       "budget                   15776\n",
       "usa_gross_income         18628\n",
       "worlwide_gross_income    19263\n",
       "metascore                23822\n",
       "reviews_from_users         355\n",
       "reviews_from_critics      2044\n",
       "primary_title            22675\n",
       "original_title_bar       22675\n",
       "start_year               22675\n",
       "runtime_minutes          22948\n",
       "genres                       0\n",
       "ordering                 22675\n",
       "title_bar                22675\n",
       "region                   22675\n",
       "language_bar             32807\n",
       "types                    30643\n",
       "attributes               32287\n",
       "is_original_title        22675\n",
       "averagerating            22916\n",
       "numvotes                 22916\n",
       "budget_br                15776\n",
       "revenue                  19263\n",
       "dtype: int64"
      ]
     },
     "execution_count": 29,
     "metadata": {},
     "output_type": "execute_result"
    }
   ],
   "source": [
    "# Checking if fillna() worked\n",
    "df.isna().sum()"
   ]
  },
  {
   "cell_type": "markdown",
   "metadata": {},
   "source": [
    "Great! Now we have only movies produced by American studios available for analysis. "
   ]
  },
  {
   "cell_type": "markdown",
   "metadata": {},
   "source": [
    "### 3.6 Drop columns\n",
    "\n",
    "Note: I decided to drop the columns 'primary_title' and 'original_title' because their meanings sound ambiguos. The column 'title' is more straight forward."
   ]
  },
  {
   "cell_type": "code",
   "execution_count": 30,
   "metadata": {
    "scrolled": true
   },
   "outputs": [
    {
     "data": {
      "text/plain": [
       "Index(['title', 'original_title', 'year', 'date_published', 'genre',\n",
       "       'duration', 'country', 'language', 'director', 'writer',\n",
       "       'production_company', 'actors', 'description', 'avg_vote', 'votes',\n",
       "       'budget', 'usa_gross_income', 'worlwide_gross_income', 'metascore',\n",
       "       'reviews_from_users', 'reviews_from_critics', 'primary_title',\n",
       "       'original_title_bar', 'start_year', 'runtime_minutes', 'genres',\n",
       "       'ordering', 'title_bar', 'region', 'language_bar', 'types',\n",
       "       'attributes', 'is_original_title', 'averagerating', 'numvotes',\n",
       "       'budget_br', 'revenue'],\n",
       "      dtype='object')"
      ]
     },
     "execution_count": 30,
     "metadata": {},
     "output_type": "execute_result"
    }
   ],
   "source": [
    "# Checking what columns I have\n",
    "df.columns"
   ]
  },
  {
   "cell_type": "code",
   "execution_count": 31,
   "metadata": {},
   "outputs": [],
   "source": [
    "# Dropping unnecessary data\n",
    "df.drop(columns=['title','director','writer','actors','description',\\\n",
    "                 'primary_title','original_title_bar','start_year','language','ordering',\\\n",
    "                 'title_bar','region','language_bar','types','attributes','is_original_title',\\\n",
    "                 'budget_br','revenue','runtime_minutes','numvotes','votes', 'reviews_from_users',\\\n",
    "                 'reviews_from_critics','averagerating','date_published'\n",
    "                 \n",
    "                ], inplace=True)"
   ]
  },
  {
   "cell_type": "code",
   "execution_count": 32,
   "metadata": {
    "scrolled": true
   },
   "outputs": [
    {
     "data": {
      "text/html": [
       "<div>\n",
       "<style scoped>\n",
       "    .dataframe tbody tr th:only-of-type {\n",
       "        vertical-align: middle;\n",
       "    }\n",
       "\n",
       "    .dataframe tbody tr th {\n",
       "        vertical-align: top;\n",
       "    }\n",
       "\n",
       "    .dataframe thead th {\n",
       "        text-align: right;\n",
       "    }\n",
       "</style>\n",
       "<table border=\"1\" class=\"dataframe\">\n",
       "  <thead>\n",
       "    <tr style=\"text-align: right;\">\n",
       "      <th></th>\n",
       "      <th>original_title</th>\n",
       "      <th>year</th>\n",
       "      <th>genre</th>\n",
       "      <th>duration</th>\n",
       "      <th>country</th>\n",
       "      <th>production_company</th>\n",
       "      <th>avg_vote</th>\n",
       "      <th>budget</th>\n",
       "      <th>usa_gross_income</th>\n",
       "      <th>worlwide_gross_income</th>\n",
       "      <th>metascore</th>\n",
       "      <th>genres</th>\n",
       "    </tr>\n",
       "    <tr>\n",
       "      <th>imdb_id</th>\n",
       "      <th></th>\n",
       "      <th></th>\n",
       "      <th></th>\n",
       "      <th></th>\n",
       "      <th></th>\n",
       "      <th></th>\n",
       "      <th></th>\n",
       "      <th></th>\n",
       "      <th></th>\n",
       "      <th></th>\n",
       "      <th></th>\n",
       "      <th></th>\n",
       "    </tr>\n",
       "  </thead>\n",
       "  <tbody>\n",
       "    <tr>\n",
       "      <th>tt0000009</th>\n",
       "      <td>Miss Jerry</td>\n",
       "      <td>1894</td>\n",
       "      <td>Romance</td>\n",
       "      <td>45</td>\n",
       "      <td>USA</td>\n",
       "      <td>Alexander Black Photoplays</td>\n",
       "      <td>5.9</td>\n",
       "      <td>NaN</td>\n",
       "      <td>NaN</td>\n",
       "      <td>NaN</td>\n",
       "      <td>NaN</td>\n",
       "      <td>Romance</td>\n",
       "    </tr>\n",
       "  </tbody>\n",
       "</table>\n",
       "</div>"
      ],
      "text/plain": [
       "          original_title  year    genre  duration country  \\\n",
       "imdb_id                                                     \n",
       "tt0000009     Miss Jerry  1894  Romance        45     USA   \n",
       "\n",
       "                   production_company  avg_vote  budget usa_gross_income  \\\n",
       "imdb_id                                                                    \n",
       "tt0000009  Alexander Black Photoplays       5.9     NaN              NaN   \n",
       "\n",
       "           worlwide_gross_income  metascore   genres  \n",
       "imdb_id                                               \n",
       "tt0000009                    NaN        NaN  Romance  "
      ]
     },
     "execution_count": 32,
     "metadata": {},
     "output_type": "execute_result"
    }
   ],
   "source": [
    "# Checking if it worked\n",
    "df.head(1)"
   ]
  },
  {
   "cell_type": "code",
   "execution_count": 33,
   "metadata": {
    "scrolled": true
   },
   "outputs": [
    {
     "data": {
      "text/plain": [
       "(33087, 12)"
      ]
     },
     "execution_count": 33,
     "metadata": {},
     "output_type": "execute_result"
    }
   ],
   "source": [
    "# Checking the new DataFrame shape\n",
    "df.shape"
   ]
  },
  {
   "cell_type": "code",
   "execution_count": 34,
   "metadata": {},
   "outputs": [],
   "source": [
    "# Drop duplicated indexes\n",
    "df = df[~df.index.duplicated(keep='last')]"
   ]
  },
  {
   "cell_type": "code",
   "execution_count": 35,
   "metadata": {},
   "outputs": [
    {
     "data": {
      "text/plain": [
       "(30909, 12)"
      ]
     },
     "execution_count": 35,
     "metadata": {},
     "output_type": "execute_result"
    }
   ],
   "source": [
    "# Checking new shape of the DataFrame\n",
    "df.shape"
   ]
  },
  {
   "cell_type": "markdown",
   "metadata": {},
   "source": [
    "# 4. Exploring the Data\n",
    "- New movies throughout the year\n",
    "\n",
    "### 4.1 First visualization \n",
    "- Use data visualization tools to have a better understanding of the datasets and if there are outliers that could break the analysis.\n",
    "\n"
   ]
  },
  {
   "cell_type": "code",
   "execution_count": 36,
   "metadata": {},
   "outputs": [
    {
     "data": {
      "image/png": "[encoded data removed]",
      "text/plain": [
       "<Figure size 864x864 with 6 Axes>"
      ]
     },
     "metadata": {
      "needs_background": "light"
     },
     "output_type": "display_data"
    }
   ],
   "source": [
    "# Using a DataFrame histogram plot to better visualize the dimentions of the values in the DataFrame\n",
    "df.hist(color='skyblue',edgecolor='black',figsize= (12,12));"
   ]
  },
  {
   "cell_type": "code",
   "execution_count": 37,
   "metadata": {
    "scrolled": true
   },
   "outputs": [
    {
     "data": {
      "text/plain": [
       "original_title            object\n",
       "year                       int64\n",
       "genre                     object\n",
       "duration                   int64\n",
       "country                   object\n",
       "production_company        object\n",
       "avg_vote                 float64\n",
       "budget                   float64\n",
       "usa_gross_income          object\n",
       "worlwide_gross_income    float64\n",
       "metascore                float64\n",
       "genres                    object\n",
       "dtype: object"
      ]
     },
     "execution_count": 37,
     "metadata": {},
     "output_type": "execute_result"
    }
   ],
   "source": [
    "# Checking the types of data\n",
    "df.dtypes"
   ]
  },
  {
   "cell_type": "markdown",
   "metadata": {},
   "source": [
    "### 4.2 Use only movies launched between 1990 and 2020\n",
    "\n",
    "In the 1990s, there was a <a href='https://theface.com/culture/do-the-right-thing-to-the-matrix-how-the-nineties-changed-cinema-forever'>revolution in the movies industry that changed the sector forever</a>. With new techlogies, we can create movies in CGI and many other new technologies. It was a new era to the movies. Thus, it's safe to say that we will have a scenario closer to the actual scenerio if we use movies produced between 1990 and 2020."
   ]
  },
  {
   "cell_type": "code",
   "execution_count": 38,
   "metadata": {
    "scrolled": true
   },
   "outputs": [
    {
     "name": "stdout",
     "output_type": "stream",
     "text": [
      "1894\n",
      "2020\n"
     ]
    }
   ],
   "source": [
    "# Checking the timeframe of my DataFrame\n",
    "print(df.year.min())\n",
    "print(df.year.max())"
   ]
  },
  {
   "cell_type": "code",
   "execution_count": 39,
   "metadata": {
    "scrolled": false
   },
   "outputs": [
    {
     "data": {
      "image/png": "[encoded data removed]",
      "text/plain": [
       "<Figure size 432x288 with 1 Axes>"
      ]
     },
     "metadata": {
      "needs_background": "light"
     },
     "output_type": "display_data"
    }
   ],
   "source": [
    "# Creating a histogram with the start_year columns\n",
    "x = df.year\n",
    "plt.hist(x, bins=10,edgecolor='black')\n",
    "plt.xlabel('Year')\n",
    "plt.ylabel('Number of New Movies')\n",
    "plt.show()"
   ]
  },
  {
   "cell_type": "code",
   "execution_count": 40,
   "metadata": {
    "scrolled": true
   },
   "outputs": [
    {
     "name": "stdout",
     "output_type": "stream",
     "text": [
      "1990\n",
      "2020\n"
     ]
    }
   ],
   "source": [
    "# Filtering my DataFrame to only have movies launched between 1990 and 2020\n",
    "df = df[df.year >= 1990]\n",
    "print(df.year.min())\n",
    "print(df.year.max())"
   ]
  },
  {
   "cell_type": "code",
   "execution_count": 41,
   "metadata": {},
   "outputs": [
    {
     "data": {
      "image/png": "[encoded data removed]",
      "text/plain": [
       "<Figure size 432x288 with 1 Axes>"
      ]
     },
     "metadata": {
      "needs_background": "light"
     },
     "output_type": "display_data"
    }
   ],
   "source": [
    "# Plotting a histogram to visualize when the movies were launched\n",
    "x = df.year\n",
    "plt.hist(x, bins=10,edgecolor='black')\n",
    "plt.xlabel('Year')\n",
    "plt.ylabel('Number of New Movies')\n",
    "plt.show()"
   ]
  },
  {
   "cell_type": "markdown",
   "metadata": {},
   "source": [
    "# 5. Genres With The Highest Number of Movies Released\n",
    "\n",
    "### Objectives:\n",
    "- Answer my fisrt question: What genres have the highest release of movies between 1990 and 2020\n",
    "- Drop NaN values from the genres column\n",
    "- Separate the genre column that contains more that one genre"
   ]
  },
  {
   "cell_type": "markdown",
   "metadata": {},
   "source": [
    "### 5.1 Drop NaN values under the genres column"
   ]
  },
  {
   "cell_type": "code",
   "execution_count": 44,
   "metadata": {
    "scrolled": true
   },
   "outputs": [],
   "source": [
    "# Droping rows with missing values in the genres column\n",
    "df.dropna(subset=['genres'], inplace=True)  "
   ]
  },
  {
   "cell_type": "markdown",
   "metadata": {},
   "source": [
    "Now that the null values under the genres(last column) column is deleted, I noticed that there are movies with more than one genre. I'll separate them to three columns. I'll use these columns to create a dictionary which will show me how many movies were launched for each value.\n",
    "\n",
    "I will keep the column genre (4th column) as it is for now. It will be used to further analysis."
   ]
  },
  {
   "cell_type": "markdown",
   "metadata": {},
   "source": [
    "### 5.2 Separate values under the genres columns into different columns"
   ]
  },
  {
   "cell_type": "code",
   "execution_count": 46,
   "metadata": {
    "scrolled": true
   },
   "outputs": [
    {
     "data": {
      "text/html": [
       "<div>\n",
       "<style scoped>\n",
       "    .dataframe tbody tr th:only-of-type {\n",
       "        vertical-align: middle;\n",
       "    }\n",
       "\n",
       "    .dataframe tbody tr th {\n",
       "        vertical-align: top;\n",
       "    }\n",
       "\n",
       "    .dataframe thead th {\n",
       "        text-align: right;\n",
       "    }\n",
       "</style>\n",
       "<table border=\"1\" class=\"dataframe\">\n",
       "  <thead>\n",
       "    <tr style=\"text-align: right;\">\n",
       "      <th></th>\n",
       "      <th>original_title</th>\n",
       "      <th>year</th>\n",
       "      <th>genre</th>\n",
       "      <th>duration</th>\n",
       "      <th>country</th>\n",
       "      <th>production_company</th>\n",
       "      <th>avg_vote</th>\n",
       "      <th>budget</th>\n",
       "      <th>usa_gross_income</th>\n",
       "      <th>worlwide_gross_income</th>\n",
       "      <th>metascore</th>\n",
       "      <th>genres</th>\n",
       "      <th>genre_1</th>\n",
       "      <th>genre_2</th>\n",
       "      <th>genre_3</th>\n",
       "    </tr>\n",
       "    <tr>\n",
       "      <th>imdb_id</th>\n",
       "      <th></th>\n",
       "      <th></th>\n",
       "      <th></th>\n",
       "      <th></th>\n",
       "      <th></th>\n",
       "      <th></th>\n",
       "      <th></th>\n",
       "      <th></th>\n",
       "      <th></th>\n",
       "      <th></th>\n",
       "      <th></th>\n",
       "      <th></th>\n",
       "      <th></th>\n",
       "      <th></th>\n",
       "      <th></th>\n",
       "    </tr>\n",
       "  </thead>\n",
       "  <tbody>\n",
       "    <tr>\n",
       "      <th>tt0035423</th>\n",
       "      <td>Kate &amp; Leopold</td>\n",
       "      <td>2001</td>\n",
       "      <td>Comedy,Fantasy,Romance</td>\n",
       "      <td>118</td>\n",
       "      <td>USA</td>\n",
       "      <td>Konrad Pictures</td>\n",
       "      <td>6.4</td>\n",
       "      <td>48000000.0</td>\n",
       "      <td>47121859</td>\n",
       "      <td>76019048.0</td>\n",
       "      <td>44.0</td>\n",
       "      <td>Comedy,Fantasy,Romance</td>\n",
       "      <td>Comedy</td>\n",
       "      <td>Fantasy</td>\n",
       "      <td>Romance</td>\n",
       "    </tr>\n",
       "  </tbody>\n",
       "</table>\n",
       "</div>"
      ],
      "text/plain": [
       "           original_title  year                   genre  duration country  \\\n",
       "imdb_id                                                                     \n",
       "tt0035423  Kate & Leopold  2001  Comedy,Fantasy,Romance       118     USA   \n",
       "\n",
       "          production_company  avg_vote      budget usa_gross_income  \\\n",
       "imdb_id                                                               \n",
       "tt0035423    Konrad Pictures       6.4  48000000.0         47121859   \n",
       "\n",
       "           worlwide_gross_income  metascore                  genres genre_1  \\\n",
       "imdb_id                                                                       \n",
       "tt0035423             76019048.0       44.0  Comedy,Fantasy,Romance  Comedy   \n",
       "\n",
       "           genre_2  genre_3  \n",
       "imdb_id                      \n",
       "tt0035423  Fantasy  Romance  "
      ]
     },
     "execution_count": 46,
     "metadata": {},
     "output_type": "execute_result"
    }
   ],
   "source": [
    "# Separanting the genres columns into three genres using the comma as a dividing point\n",
    "df[['genre_1','genre_2','genre_3']] =  df.genre.str.split(',',expand=True,)\n",
    "df.head(1)"
   ]
  },
  {
   "cell_type": "code",
   "execution_count": 47,
   "metadata": {},
   "outputs": [
    {
     "name": "stdout",
     "output_type": "stream",
     "text": [
      "0\n",
      "4863\n",
      "10529\n"
     ]
    }
   ],
   "source": [
    "# Counting null values in the new genres columns\n",
    "print(df.genre_1.isna().sum())\n",
    "print(df.genre_2.isna().sum())\n",
    "print(df.genre_3.isna().sum())"
   ]
  },
  {
   "cell_type": "markdown",
   "metadata": {},
   "source": [
    "Awesome. The genres are separated."
   ]
  },
  {
   "cell_type": "markdown",
   "metadata": {},
   "source": [
    "### 5.3 Create a dictionary that counts genres"
   ]
  },
  {
   "cell_type": "code",
   "execution_count": 48,
   "metadata": {
    "scrolled": false
   },
   "outputs": [],
   "source": [
    "# Using groupby to turn the new genres columns into a dictionary\n",
    "genre_1 = dict(df.groupby(['genre_1']).size())\n",
    "genre_2 = dict(df.groupby(['genre_2']).size())\n",
    "genre_3 = dict(df.groupby(['genre_3']).size())"
   ]
  },
  {
   "cell_type": "code",
   "execution_count": 49,
   "metadata": {},
   "outputs": [
    {
     "data": {
      "text/plain": [
       "{'Action': 3133,\n",
       " 'Adventure': 1599,\n",
       " 'Animation': 418,\n",
       " 'Biography': 444,\n",
       " 'Comedy': 6301,\n",
       " 'Crime': 2380,\n",
       " 'Drama': 8676,\n",
       " 'Family': 992,\n",
       " 'Fantasy': 947,\n",
       " 'History': 184,\n",
       " 'Horror': 3621,\n",
       " 'Music': 343,\n",
       " 'Musical': 137,\n",
       " 'Mystery': 1353,\n",
       " 'Romance': 2568,\n",
       " 'Sci-Fi': 1318,\n",
       " 'Sport': 319,\n",
       " 'Thriller': 3894,\n",
       " 'War': 146,\n",
       " 'Western': 181,\n",
       " 'News': 1,\n",
       " 'Reality-TV': 1}"
      ]
     },
     "execution_count": 49,
     "metadata": {},
     "output_type": "execute_result"
    }
   ],
   "source": [
    "# Using Counter to sum the dictionary values together\n",
    "genres_dict = dict(Counter(genre_1)+Counter(genre_2)+Counter(genre_3))\n",
    "genres_dict"
   ]
  },
  {
   "cell_type": "markdown",
   "metadata": {},
   "source": [
    "### 5.4 Create a bar plot for the top genres"
   ]
  },
  {
   "cell_type": "code",
   "execution_count": 50,
   "metadata": {},
   "outputs": [],
   "source": [
    "# Setting up x and y values using the dictionaries keys and values\n",
    "x2 = genres_dict.keys()\n",
    "y2 = genres_dict.values()"
   ]
  },
  {
   "cell_type": "code",
   "execution_count": 51,
   "metadata": {
    "scrolled": true
   },
   "outputs": [
    {
     "data": {
      "image/png": "[encoded data removed]",
      "text/plain": [
       "<Figure size 2160x720 with 1 Axes>"
      ]
     },
     "metadata": {
      "needs_background": "light"
     },
     "output_type": "display_data"
    }
   ],
   "source": [
    "# Defining the figure size\n",
    "plt.figure(figsize=(30,10))\n",
    "\n",
    "# Using the bar() function to create a plot using the above values of x and y; and creating a label\n",
    "plt.bar(x2,y2, label='Genres')\n",
    "\n",
    "# Creating x and y labels\n",
    "plt.xlabel('Genres')\n",
    "plt.ylabel('Number of Movies Launched')\n",
    "\n",
    "# Creating a title to the label\n",
    "plt.title('Movies Launched With Each Genre')\n",
    "plt.legend()\n",
    "\n",
    "# Final plot\n",
    "plt.show()"
   ]
  },
  {
   "cell_type": "code",
   "execution_count": 52,
   "metadata": {
    "scrolled": true
   },
   "outputs": [
    {
     "name": "stdout",
     "output_type": "stream",
     "text": [
      "The top 15 most produced movie genres and number of movies\n",
      "of each genre launched between 2010 and 2020:\n",
      "\n",
      "Drama - 8676\n",
      "Comedy - 6301\n",
      "Thriller - 3894\n",
      "Horror - 3621\n",
      "Action - 3133\n",
      "Romance - 2568\n",
      "Crime - 2380\n",
      "Adventure - 1599\n",
      "Mystery - 1353\n",
      "Sci-Fi - 1318\n",
      "Family - 992\n",
      "Fantasy - 947\n",
      "Biography - 444\n",
      "Animation - 418\n",
      "Music - 343\n"
     ]
    }
   ],
   "source": [
    "# Using Counter to check the largest values in my genres dictionary\n",
    "k = Counter(genres_dict) \n",
    "  \n",
    "# Finding 15 highest values using most_commom\n",
    "genres_count = k.most_common(15)  \n",
    "\n",
    "# Printing the top 15 most produced movies genres\n",
    "print(\"The top 15 most produced movie genres and number of movies\\nof each genre launched between 2010 and 2020:\\n\") \n",
    "\n",
    "# Using for loop to print the list in a more readable format\n",
    "for x,y in genres_count: \n",
    "    print(x,'-',y) "
   ]
  },
  {
   "cell_type": "markdown",
   "metadata": {},
   "source": [
    "Now, I will plot the top 10 genres with more movies launched."
   ]
  },
  {
   "cell_type": "code",
   "execution_count": 53,
   "metadata": {
    "scrolled": false
   },
   "outputs": [
    {
     "data": {
      "image/png": "[encoded data removed]",
      "text/plain": [
       "<Figure size 864x360 with 1 Axes>"
      ]
     },
     "metadata": {
      "needs_background": "light"
     },
     "output_type": "display_data"
    }
   ],
   "source": [
    "# Creating a variable using most_common and then converting it into a dictionary\n",
    "top_10_genres = k.most_common(10)  \n",
    "top_10_genres = dict(top_10_genres)\n",
    "\n",
    "# Setting x and y up\n",
    "x3 = top_10_genres.keys()\n",
    "y3 = top_10_genres.values()\n",
    "\n",
    "# Setting the figure size\n",
    "plt.figure(figsize=(12,5))\n",
    "\n",
    "# Using the bar() function to create a plot using the above values of x and y; and create labels\n",
    "plt.bar(x3,y3, label='Number of Genres Lauched')\n",
    "plt.xlabel('Genres')\n",
    "plt.ylabel('Number of Movies Launched')\n",
    "plt.savefig('destination_path.eps', format='eps')\n",
    "\n",
    "plt.title('Number of Movies Launched Based on Genre')\n",
    "plt.legend()\n",
    "\n",
    "# Output the final plot\n",
    "plt.show()"
   ]
  },
  {
   "cell_type": "markdown",
   "metadata": {},
   "source": [
    "### Findings:\n",
    "\n",
    "- The top 15 genres have the highest release of movies between 1990 and 2020 are Drama, Comedy, Horror, Thriller, Action, Biography, Adventure, Romance, Crime, History, Family, Mystery, Sci-Fi, and Music.\n",
    "\n",
    "\n",
    "\n",
    "### Next Steps:\n",
    "\n",
    "- Find out which are the most profitable genres"
   ]
  },
  {
   "cell_type": "markdown",
   "metadata": {},
   "source": [
    "# 6. Correlation Between Higher Budget and Higher Profits\n",
    "\n",
    "Note: Accordly to <a href='https://theweek.com/articles/647394/when-buy-movie-ticket-where-does-that-money'>this article</a>, studios get approximately 60% of the box office in the US. Thus, I will remove 40% of the final profit."
   ]
  },
  {
   "cell_type": "markdown",
   "metadata": {},
   "source": [
    "### 6.1 Check top movies with the highest budget"
   ]
  },
  {
   "cell_type": "code",
   "execution_count": 55,
   "metadata": {
    "scrolled": false
   },
   "outputs": [
    {
     "data": {
      "text/html": [
       "<div>\n",
       "<style scoped>\n",
       "    .dataframe tbody tr th:only-of-type {\n",
       "        vertical-align: middle;\n",
       "    }\n",
       "\n",
       "    .dataframe tbody tr th {\n",
       "        vertical-align: top;\n",
       "    }\n",
       "\n",
       "    .dataframe thead th {\n",
       "        text-align: right;\n",
       "    }\n",
       "</style>\n",
       "<table border=\"1\" class=\"dataframe\">\n",
       "  <thead>\n",
       "    <tr style=\"text-align: right;\">\n",
       "      <th></th>\n",
       "      <th>original_title</th>\n",
       "      <th>year</th>\n",
       "      <th>genre</th>\n",
       "      <th>duration</th>\n",
       "      <th>country</th>\n",
       "      <th>production_company</th>\n",
       "      <th>avg_vote</th>\n",
       "      <th>budget</th>\n",
       "      <th>usa_gross_income</th>\n",
       "      <th>worlwide_gross_income</th>\n",
       "      <th>metascore</th>\n",
       "      <th>genres</th>\n",
       "      <th>genre_1</th>\n",
       "      <th>genre_2</th>\n",
       "      <th>genre_3</th>\n",
       "    </tr>\n",
       "    <tr>\n",
       "      <th>imdb_id</th>\n",
       "      <th></th>\n",
       "      <th></th>\n",
       "      <th></th>\n",
       "      <th></th>\n",
       "      <th></th>\n",
       "      <th></th>\n",
       "      <th></th>\n",
       "      <th></th>\n",
       "      <th></th>\n",
       "      <th></th>\n",
       "      <th></th>\n",
       "      <th></th>\n",
       "      <th></th>\n",
       "      <th></th>\n",
       "      <th></th>\n",
       "    </tr>\n",
       "  </thead>\n",
       "  <tbody>\n",
       "    <tr>\n",
       "      <th>tt4154796</th>\n",
       "      <td>Avengers: Endgame</td>\n",
       "      <td>2019</td>\n",
       "      <td>Action,Adventure,Drama</td>\n",
       "      <td>181</td>\n",
       "      <td>USA</td>\n",
       "      <td>Marvel Studios</td>\n",
       "      <td>8.4</td>\n",
       "      <td>356000000.0</td>\n",
       "      <td>858373000</td>\n",
       "      <td>2.797801e+09</td>\n",
       "      <td>78.0</td>\n",
       "      <td>Action,Adventure,Sci-Fi</td>\n",
       "      <td>Action</td>\n",
       "      <td>Adventure</td>\n",
       "      <td>Drama</td>\n",
       "    </tr>\n",
       "    <tr>\n",
       "      <th>tt4154756</th>\n",
       "      <td>Avengers: Infinity War</td>\n",
       "      <td>2018</td>\n",
       "      <td>Action,Adventure,Sci-Fi</td>\n",
       "      <td>149</td>\n",
       "      <td>USA</td>\n",
       "      <td>Marvel Studios</td>\n",
       "      <td>8.4</td>\n",
       "      <td>321000000.0</td>\n",
       "      <td>678815482</td>\n",
       "      <td>2.048360e+09</td>\n",
       "      <td>68.0</td>\n",
       "      <td>Action,Adventure,Sci-Fi</td>\n",
       "      <td>Action</td>\n",
       "      <td>Adventure</td>\n",
       "      <td>Sci-Fi</td>\n",
       "    </tr>\n",
       "    <tr>\n",
       "      <th>tt2527336</th>\n",
       "      <td>Star Wars: Episode VIII - The Last Jedi</td>\n",
       "      <td>2017</td>\n",
       "      <td>Action,Adventure,Fantasy</td>\n",
       "      <td>152</td>\n",
       "      <td>USA</td>\n",
       "      <td>Walt Disney Pictures</td>\n",
       "      <td>7.0</td>\n",
       "      <td>317000000.0</td>\n",
       "      <td>620181382</td>\n",
       "      <td>1.332540e+09</td>\n",
       "      <td>84.0</td>\n",
       "      <td>Action,Adventure,Fantasy</td>\n",
       "      <td>Action</td>\n",
       "      <td>Adventure</td>\n",
       "      <td>Fantasy</td>\n",
       "    </tr>\n",
       "    <tr>\n",
       "      <th>tt0449088</th>\n",
       "      <td>Pirates of the Caribbean: At World's End</td>\n",
       "      <td>2007</td>\n",
       "      <td>Action,Adventure,Fantasy</td>\n",
       "      <td>169</td>\n",
       "      <td>USA</td>\n",
       "      <td>Walt Disney Pictures</td>\n",
       "      <td>7.1</td>\n",
       "      <td>300000000.0</td>\n",
       "      <td>309420425</td>\n",
       "      <td>9.609965e+08</td>\n",
       "      <td>50.0</td>\n",
       "      <td>Action,Adventure,Fantasy</td>\n",
       "      <td>Action</td>\n",
       "      <td>Adventure</td>\n",
       "      <td>Fantasy</td>\n",
       "    </tr>\n",
       "    <tr>\n",
       "      <th>tt0974015</th>\n",
       "      <td>Justice League</td>\n",
       "      <td>2017</td>\n",
       "      <td>Action,Adventure,Fantasy</td>\n",
       "      <td>120</td>\n",
       "      <td>USA</td>\n",
       "      <td>Warner Bros.</td>\n",
       "      <td>6.3</td>\n",
       "      <td>300000000.0</td>\n",
       "      <td>229024295</td>\n",
       "      <td>6.818720e+08</td>\n",
       "      <td>45.0</td>\n",
       "      <td>Action,Adventure,Fantasy</td>\n",
       "      <td>Action</td>\n",
       "      <td>Adventure</td>\n",
       "      <td>Fantasy</td>\n",
       "    </tr>\n",
       "  </tbody>\n",
       "</table>\n",
       "</div>"
      ],
      "text/plain": [
       "                                     original_title  year  \\\n",
       "imdb_id                                                     \n",
       "tt4154796                         Avengers: Endgame  2019   \n",
       "tt4154756                    Avengers: Infinity War  2018   \n",
       "tt2527336   Star Wars: Episode VIII - The Last Jedi  2017   \n",
       "tt0449088  Pirates of the Caribbean: At World's End  2007   \n",
       "tt0974015                            Justice League  2017   \n",
       "\n",
       "                              genre  duration country    production_company  \\\n",
       "imdb_id                                                                       \n",
       "tt4154796    Action,Adventure,Drama       181     USA        Marvel Studios   \n",
       "tt4154756   Action,Adventure,Sci-Fi       149     USA        Marvel Studios   \n",
       "tt2527336  Action,Adventure,Fantasy       152     USA  Walt Disney Pictures   \n",
       "tt0449088  Action,Adventure,Fantasy       169     USA  Walt Disney Pictures   \n",
       "tt0974015  Action,Adventure,Fantasy       120     USA          Warner Bros.   \n",
       "\n",
       "           avg_vote       budget usa_gross_income  worlwide_gross_income  \\\n",
       "imdb_id                                                                    \n",
       "tt4154796       8.4  356000000.0        858373000           2.797801e+09   \n",
       "tt4154756       8.4  321000000.0        678815482           2.048360e+09   \n",
       "tt2527336       7.0  317000000.0        620181382           1.332540e+09   \n",
       "tt0449088       7.1  300000000.0        309420425           9.609965e+08   \n",
       "tt0974015       6.3  300000000.0        229024295           6.818720e+08   \n",
       "\n",
       "           metascore                    genres genre_1    genre_2  genre_3  \n",
       "imdb_id                                                                     \n",
       "tt4154796       78.0   Action,Adventure,Sci-Fi  Action  Adventure    Drama  \n",
       "tt4154756       68.0   Action,Adventure,Sci-Fi  Action  Adventure   Sci-Fi  \n",
       "tt2527336       84.0  Action,Adventure,Fantasy  Action  Adventure  Fantasy  \n",
       "tt0449088       50.0  Action,Adventure,Fantasy  Action  Adventure  Fantasy  \n",
       "tt0974015       45.0  Action,Adventure,Fantasy  Action  Adventure  Fantasy  "
      ]
     },
     "execution_count": 55,
     "metadata": {},
     "output_type": "execute_result"
    }
   ],
   "source": [
    "# First, I want to take a look of the top budget movies\n",
    "df.nlargest(5, 'budget')"
   ]
  },
  {
   "cell_type": "code",
   "execution_count": 56,
   "metadata": {
    "scrolled": false
   },
   "outputs": [
    {
     "data": {
      "text/plain": [
       "{'budget': original_title\n",
       " Avengers: Endgame                                356000000.0\n",
       " Avengers: Infinity War                           321000000.0\n",
       " Star Wars: Episode VIII - The Last Jedi          317000000.0\n",
       " Pirates of the Caribbean: At World's End         300000000.0\n",
       " Justice League                                   300000000.0\n",
       " Star Wars: Episode IX - The Rise of Skywalker    275000000.0\n",
       " Solo: A Star Wars Story                          275000000.0\n",
       " Superman Returns                                 270000000.0\n",
       " Tangled                                          260000000.0\n",
       " The Lion King                                    260000000.0\n",
       " Name: budget, dtype: float64}"
      ]
     },
     "execution_count": 56,
     "metadata": {},
     "output_type": "execute_result"
    }
   ],
   "source": [
    "# Creates a dictionary with the top 5 movies with the highest budget\n",
    "df_top_budget = df.filter(['original_title','budget'], axis=1)\n",
    "df_top_budget.set_index('original_title',inplace=True)\n",
    "budget_dict = dict(df_top_budget.nlargest(10, 'budget'))\n",
    "budget_dict"
   ]
  },
  {
   "cell_type": "code",
   "execution_count": 113,
   "metadata": {},
   "outputs": [
    {
     "data": {
      "text/plain": [
       "[Text(0, 0.5, 'Budget in Millions of Dollars'), Text(0.5, 0, 'Title')]"
      ]
     },
     "execution_count": 113,
     "metadata": {},
     "output_type": "execute_result"
    },
    {
     "data": {
      "image/png": "[encoded data removed]",
      "text/plain": [
       "<Figure size 1296x360 with 1 Axes>"
      ]
     },
     "metadata": {},
     "output_type": "display_data"
    }
   ],
   "source": [
    "# The code bellow plots the top 5 highest budgets\n",
    "top_budget = df.nlargest(5,'budget')\n",
    "top_budget['budget_million'] = top_budget['budget']/1000000\n",
    "plt.figure(figsize=(18, 5))\n",
    "plt.ticklabel_format(style='plain', axis='y')\n",
    "budget = sns.barplot(x='original_title', y='budget_million', data=top_budget,palette=\"mako\")\n",
    "budget.set_title('Movies With the Highest Budget', fontdict={'fontsize':16});\n",
    "budget.set(xlabel='Title', ylabel='Budget in Millions of Dollars')"
   ]
  },
  {
   "cell_type": "markdown",
   "metadata": {},
   "source": [
    "### 6.2 Drop null values from the budget and worldwide_gross_income columns"
   ]
  },
  {
   "cell_type": "code",
   "execution_count": 58,
   "metadata": {},
   "outputs": [],
   "source": [
    "# Dropping NaN values from the budget and worlwide_gross_income columns\n",
    "df.dropna(subset=['budget','worlwide_gross_income'], inplace=True)  "
   ]
  },
  {
   "cell_type": "code",
   "execution_count": 59,
   "metadata": {
    "scrolled": true
   },
   "outputs": [
    {
     "data": {
      "text/plain": [
       "(9320, 15)"
      ]
     },
     "execution_count": 59,
     "metadata": {},
     "output_type": "execute_result"
    }
   ],
   "source": [
    "# Checking the shape of the dataset after I have dropped the NaN values\n",
    "df.shape"
   ]
  },
  {
   "cell_type": "code",
   "execution_count": 60,
   "metadata": {},
   "outputs": [],
   "source": [
    "# Dropping budget values that are equal to 0\n",
    "df = df[df['budget'] != 0]"
   ]
  },
  {
   "cell_type": "code",
   "execution_count": 61,
   "metadata": {
    "scrolled": true
   },
   "outputs": [
    {
     "data": {
      "text/plain": [
       "(5937, 15)"
      ]
     },
     "execution_count": 61,
     "metadata": {},
     "output_type": "execute_result"
    }
   ],
   "source": [
    "# Checking the shape of the dataset after I have dropped the 0 values\n",
    "df.shape"
   ]
  },
  {
   "cell_type": "markdown",
   "metadata": {},
   "source": [
    "### 6.3 Create a profit column"
   ]
  },
  {
   "cell_type": "code",
   "execution_count": 62,
   "metadata": {},
   "outputs": [],
   "source": [
    "# Create column profit. Profit will be worlwide_gross_income minus budget\n",
    "df['profit'] = (df['worlwide_gross_income'] - df['budget'])"
   ]
  },
  {
   "cell_type": "code",
   "execution_count": 63,
   "metadata": {
    "scrolled": false
   },
   "outputs": [
    {
     "data": {
      "text/html": [
       "<div>\n",
       "<style scoped>\n",
       "    .dataframe tbody tr th:only-of-type {\n",
       "        vertical-align: middle;\n",
       "    }\n",
       "\n",
       "    .dataframe tbody tr th {\n",
       "        vertical-align: top;\n",
       "    }\n",
       "\n",
       "    .dataframe thead th {\n",
       "        text-align: right;\n",
       "    }\n",
       "</style>\n",
       "<table border=\"1\" class=\"dataframe\">\n",
       "  <thead>\n",
       "    <tr style=\"text-align: right;\">\n",
       "      <th></th>\n",
       "      <th>original_title</th>\n",
       "      <th>year</th>\n",
       "      <th>genre</th>\n",
       "      <th>duration</th>\n",
       "      <th>country</th>\n",
       "      <th>production_company</th>\n",
       "      <th>avg_vote</th>\n",
       "      <th>budget</th>\n",
       "      <th>usa_gross_income</th>\n",
       "      <th>worlwide_gross_income</th>\n",
       "      <th>metascore</th>\n",
       "      <th>genres</th>\n",
       "      <th>genre_1</th>\n",
       "      <th>genre_2</th>\n",
       "      <th>genre_3</th>\n",
       "      <th>profit</th>\n",
       "    </tr>\n",
       "    <tr>\n",
       "      <th>imdb_id</th>\n",
       "      <th></th>\n",
       "      <th></th>\n",
       "      <th></th>\n",
       "      <th></th>\n",
       "      <th></th>\n",
       "      <th></th>\n",
       "      <th></th>\n",
       "      <th></th>\n",
       "      <th></th>\n",
       "      <th></th>\n",
       "      <th></th>\n",
       "      <th></th>\n",
       "      <th></th>\n",
       "      <th></th>\n",
       "      <th></th>\n",
       "      <th></th>\n",
       "    </tr>\n",
       "  </thead>\n",
       "  <tbody>\n",
       "    <tr>\n",
       "      <th>tt0035423</th>\n",
       "      <td>Kate &amp; Leopold</td>\n",
       "      <td>2001</td>\n",
       "      <td>Comedy,Fantasy,Romance</td>\n",
       "      <td>118</td>\n",
       "      <td>USA</td>\n",
       "      <td>Konrad Pictures</td>\n",
       "      <td>6.4</td>\n",
       "      <td>48000000.0</td>\n",
       "      <td>47121859</td>\n",
       "      <td>76019048.0</td>\n",
       "      <td>44.0</td>\n",
       "      <td>Comedy,Fantasy,Romance</td>\n",
       "      <td>Comedy</td>\n",
       "      <td>Fantasy</td>\n",
       "      <td>Romance</td>\n",
       "      <td>28019048.0</td>\n",
       "    </tr>\n",
       "    <tr>\n",
       "      <th>tt0097176</th>\n",
       "      <td>Deceit</td>\n",
       "      <td>1990</td>\n",
       "      <td>Comedy,Sci-Fi</td>\n",
       "      <td>90</td>\n",
       "      <td>USA</td>\n",
       "      <td>21st Century Film Corporation</td>\n",
       "      <td>4.8</td>\n",
       "      <td>25000.0</td>\n",
       "      <td>0</td>\n",
       "      <td>0.0</td>\n",
       "      <td>NaN</td>\n",
       "      <td>Comedy,Sci-Fi</td>\n",
       "      <td>Comedy</td>\n",
       "      <td>Sci-Fi</td>\n",
       "      <td>None</td>\n",
       "      <td>-25000.0</td>\n",
       "    </tr>\n",
       "    <tr>\n",
       "      <th>tt0098375</th>\n",
       "      <td>Spontaneous Combustion</td>\n",
       "      <td>1990</td>\n",
       "      <td>Horror,Sci-Fi,Thriller</td>\n",
       "      <td>97</td>\n",
       "      <td>USA</td>\n",
       "      <td>Black Owl Productions</td>\n",
       "      <td>4.8</td>\n",
       "      <td>5500000.0</td>\n",
       "      <td>50367</td>\n",
       "      <td>50367.0</td>\n",
       "      <td>NaN</td>\n",
       "      <td>Horror,Sci-Fi,Thriller</td>\n",
       "      <td>Horror</td>\n",
       "      <td>Sci-Fi</td>\n",
       "      <td>Thriller</td>\n",
       "      <td>-5449633.0</td>\n",
       "    </tr>\n",
       "    <tr>\n",
       "      <th>tt0098987</th>\n",
       "      <td>The Adventures of Ford Fairlane</td>\n",
       "      <td>1990</td>\n",
       "      <td>Action,Adventure,Comedy</td>\n",
       "      <td>104</td>\n",
       "      <td>USA</td>\n",
       "      <td>Twentieth Century Fox</td>\n",
       "      <td>6.5</td>\n",
       "      <td>20000000.0</td>\n",
       "      <td>21413502</td>\n",
       "      <td>21413502.0</td>\n",
       "      <td>24.0</td>\n",
       "      <td>Action,Adventure,Comedy</td>\n",
       "      <td>Action</td>\n",
       "      <td>Adventure</td>\n",
       "      <td>Comedy</td>\n",
       "      <td>1413502.0</td>\n",
       "    </tr>\n",
       "    <tr>\n",
       "      <th>tt0099005</th>\n",
       "      <td>Air America</td>\n",
       "      <td>1990</td>\n",
       "      <td>Action,Comedy,War</td>\n",
       "      <td>113</td>\n",
       "      <td>USA</td>\n",
       "      <td>Carolco Pictures</td>\n",
       "      <td>5.8</td>\n",
       "      <td>35000000.0</td>\n",
       "      <td>31053601</td>\n",
       "      <td>33461269.0</td>\n",
       "      <td>33.0</td>\n",
       "      <td>Action,Comedy,War</td>\n",
       "      <td>Action</td>\n",
       "      <td>Comedy</td>\n",
       "      <td>War</td>\n",
       "      <td>-1538731.0</td>\n",
       "    </tr>\n",
       "  </tbody>\n",
       "</table>\n",
       "</div>"
      ],
      "text/plain": [
       "                            original_title  year                    genre  \\\n",
       "imdb_id                                                                     \n",
       "tt0035423                   Kate & Leopold  2001   Comedy,Fantasy,Romance   \n",
       "tt0097176                           Deceit  1990            Comedy,Sci-Fi   \n",
       "tt0098375           Spontaneous Combustion  1990   Horror,Sci-Fi,Thriller   \n",
       "tt0098987  The Adventures of Ford Fairlane  1990  Action,Adventure,Comedy   \n",
       "tt0099005                      Air America  1990        Action,Comedy,War   \n",
       "\n",
       "           duration country             production_company  avg_vote  \\\n",
       "imdb_id                                                                \n",
       "tt0035423       118     USA                Konrad Pictures       6.4   \n",
       "tt0097176        90     USA  21st Century Film Corporation       4.8   \n",
       "tt0098375        97     USA          Black Owl Productions       4.8   \n",
       "tt0098987       104     USA          Twentieth Century Fox       6.5   \n",
       "tt0099005       113     USA               Carolco Pictures       5.8   \n",
       "\n",
       "               budget usa_gross_income  worlwide_gross_income  metascore  \\\n",
       "imdb_id                                                                    \n",
       "tt0035423  48000000.0         47121859             76019048.0       44.0   \n",
       "tt0097176     25000.0                0                    0.0        NaN   \n",
       "tt0098375   5500000.0            50367                50367.0        NaN   \n",
       "tt0098987  20000000.0         21413502             21413502.0       24.0   \n",
       "tt0099005  35000000.0         31053601             33461269.0       33.0   \n",
       "\n",
       "                            genres genre_1    genre_2   genre_3      profit  \n",
       "imdb_id                                                                      \n",
       "tt0035423   Comedy,Fantasy,Romance  Comedy    Fantasy   Romance  28019048.0  \n",
       "tt0097176            Comedy,Sci-Fi  Comedy     Sci-Fi      None    -25000.0  \n",
       "tt0098375   Horror,Sci-Fi,Thriller  Horror     Sci-Fi  Thriller  -5449633.0  \n",
       "tt0098987  Action,Adventure,Comedy  Action  Adventure    Comedy   1413502.0  \n",
       "tt0099005        Action,Comedy,War  Action     Comedy       War  -1538731.0  "
      ]
     },
     "execution_count": 63,
     "metadata": {},
     "output_type": "execute_result"
    }
   ],
   "source": [
    "df.head()"
   ]
  },
  {
   "cell_type": "markdown",
   "metadata": {},
   "source": [
    "<strong>IMPORTANT:</strong> Studios only take 60% of the sales tickets revenue. Thus, I am removing 40% of each value under the world_gross_income column."
   ]
  },
  {
   "cell_type": "code",
   "execution_count": 64,
   "metadata": {},
   "outputs": [],
   "source": [
    "# This lambda function takes each value under the column 'profit' and multiplies it by 0.6.\n",
    "df['profit'] = df['profit'].apply(lambda x : x*0.6 if x > 0 else x)"
   ]
  },
  {
   "cell_type": "code",
   "execution_count": 65,
   "metadata": {},
   "outputs": [
    {
     "data": {
      "text/plain": [
       "imdb_id\n",
       "tt0035423    16811428\n",
       "tt0097176      -25000\n",
       "tt0098375    -5449633\n",
       "tt0098987      848101\n",
       "tt0099005    -1538731\n",
       "Name: profit, dtype: int64"
      ]
     },
     "execution_count": 65,
     "metadata": {},
     "output_type": "execute_result"
    }
   ],
   "source": [
    "# Making sure that the worlwide_gross_income and profit columns are integers\n",
    "df.worlwide_gross_income.astype('int64', copy=True)\n",
    "df.profit.astype(int).head()"
   ]
  },
  {
   "cell_type": "code",
   "execution_count": 66,
   "metadata": {
    "scrolled": false
   },
   "outputs": [
    {
     "data": {
      "text/html": [
       "<div>\n",
       "<style scoped>\n",
       "    .dataframe tbody tr th:only-of-type {\n",
       "        vertical-align: middle;\n",
       "    }\n",
       "\n",
       "    .dataframe tbody tr th {\n",
       "        vertical-align: top;\n",
       "    }\n",
       "\n",
       "    .dataframe thead th {\n",
       "        text-align: right;\n",
       "    }\n",
       "</style>\n",
       "<table border=\"1\" class=\"dataframe\">\n",
       "  <thead>\n",
       "    <tr style=\"text-align: right;\">\n",
       "      <th></th>\n",
       "      <th>original_title</th>\n",
       "      <th>year</th>\n",
       "      <th>genre</th>\n",
       "      <th>duration</th>\n",
       "      <th>country</th>\n",
       "      <th>production_company</th>\n",
       "      <th>avg_vote</th>\n",
       "      <th>budget</th>\n",
       "      <th>usa_gross_income</th>\n",
       "      <th>worlwide_gross_income</th>\n",
       "      <th>metascore</th>\n",
       "      <th>genres</th>\n",
       "      <th>genre_1</th>\n",
       "      <th>genre_2</th>\n",
       "      <th>genre_3</th>\n",
       "      <th>profit</th>\n",
       "    </tr>\n",
       "    <tr>\n",
       "      <th>imdb_id</th>\n",
       "      <th></th>\n",
       "      <th></th>\n",
       "      <th></th>\n",
       "      <th></th>\n",
       "      <th></th>\n",
       "      <th></th>\n",
       "      <th></th>\n",
       "      <th></th>\n",
       "      <th></th>\n",
       "      <th></th>\n",
       "      <th></th>\n",
       "      <th></th>\n",
       "      <th></th>\n",
       "      <th></th>\n",
       "      <th></th>\n",
       "      <th></th>\n",
       "    </tr>\n",
       "  </thead>\n",
       "  <tbody>\n",
       "    <tr>\n",
       "      <th>tt0499549</th>\n",
       "      <td>Avatar</td>\n",
       "      <td>2009</td>\n",
       "      <td>Action,Adventure,Fantasy</td>\n",
       "      <td>162</td>\n",
       "      <td>USA</td>\n",
       "      <td>Twentieth Century Fox</td>\n",
       "      <td>7.8</td>\n",
       "      <td>237000000.0</td>\n",
       "      <td>760507625</td>\n",
       "      <td>2.790439e+09</td>\n",
       "      <td>83.0</td>\n",
       "      <td>Action,Adventure,Fantasy</td>\n",
       "      <td>Action</td>\n",
       "      <td>Adventure</td>\n",
       "      <td>Fantasy</td>\n",
       "      <td>1.532063e+09</td>\n",
       "    </tr>\n",
       "    <tr>\n",
       "      <th>tt4154796</th>\n",
       "      <td>Avengers: Endgame</td>\n",
       "      <td>2019</td>\n",
       "      <td>Action,Adventure,Drama</td>\n",
       "      <td>181</td>\n",
       "      <td>USA</td>\n",
       "      <td>Marvel Studios</td>\n",
       "      <td>8.4</td>\n",
       "      <td>356000000.0</td>\n",
       "      <td>858373000</td>\n",
       "      <td>2.797801e+09</td>\n",
       "      <td>78.0</td>\n",
       "      <td>Action,Adventure,Sci-Fi</td>\n",
       "      <td>Action</td>\n",
       "      <td>Adventure</td>\n",
       "      <td>Drama</td>\n",
       "      <td>1.465080e+09</td>\n",
       "    </tr>\n",
       "    <tr>\n",
       "      <th>tt0120338</th>\n",
       "      <td>Titanic</td>\n",
       "      <td>1997</td>\n",
       "      <td>Drama,Romance</td>\n",
       "      <td>194</td>\n",
       "      <td>USA</td>\n",
       "      <td>Twentieth Century Fox</td>\n",
       "      <td>7.8</td>\n",
       "      <td>200000000.0</td>\n",
       "      <td>659363944</td>\n",
       "      <td>2.195170e+09</td>\n",
       "      <td>75.0</td>\n",
       "      <td>Drama,Romance</td>\n",
       "      <td>Drama</td>\n",
       "      <td>Romance</td>\n",
       "      <td>None</td>\n",
       "      <td>1.197102e+09</td>\n",
       "    </tr>\n",
       "    <tr>\n",
       "      <th>tt2488496</th>\n",
       "      <td>Star Wars: The Force Awakens</td>\n",
       "      <td>2015</td>\n",
       "      <td>Action,Adventure,Sci-Fi</td>\n",
       "      <td>138</td>\n",
       "      <td>USA</td>\n",
       "      <td>Lucasfilm</td>\n",
       "      <td>7.9</td>\n",
       "      <td>245000000.0</td>\n",
       "      <td>936662225</td>\n",
       "      <td>2.068224e+09</td>\n",
       "      <td>80.0</td>\n",
       "      <td>Action,Adventure,Fantasy</td>\n",
       "      <td>Action</td>\n",
       "      <td>Adventure</td>\n",
       "      <td>Sci-Fi</td>\n",
       "      <td>1.093934e+09</td>\n",
       "    </tr>\n",
       "    <tr>\n",
       "      <th>tt4154756</th>\n",
       "      <td>Avengers: Infinity War</td>\n",
       "      <td>2018</td>\n",
       "      <td>Action,Adventure,Sci-Fi</td>\n",
       "      <td>149</td>\n",
       "      <td>USA</td>\n",
       "      <td>Marvel Studios</td>\n",
       "      <td>8.4</td>\n",
       "      <td>321000000.0</td>\n",
       "      <td>678815482</td>\n",
       "      <td>2.048360e+09</td>\n",
       "      <td>68.0</td>\n",
       "      <td>Action,Adventure,Sci-Fi</td>\n",
       "      <td>Action</td>\n",
       "      <td>Adventure</td>\n",
       "      <td>Sci-Fi</td>\n",
       "      <td>1.036416e+09</td>\n",
       "    </tr>\n",
       "  </tbody>\n",
       "</table>\n",
       "</div>"
      ],
      "text/plain": [
       "                         original_title  year                     genre  \\\n",
       "imdb_id                                                                   \n",
       "tt0499549                        Avatar  2009  Action,Adventure,Fantasy   \n",
       "tt4154796             Avengers: Endgame  2019    Action,Adventure,Drama   \n",
       "tt0120338                       Titanic  1997             Drama,Romance   \n",
       "tt2488496  Star Wars: The Force Awakens  2015   Action,Adventure,Sci-Fi   \n",
       "tt4154756        Avengers: Infinity War  2018   Action,Adventure,Sci-Fi   \n",
       "\n",
       "           duration country     production_company  avg_vote       budget  \\\n",
       "imdb_id                                                                     \n",
       "tt0499549       162     USA  Twentieth Century Fox       7.8  237000000.0   \n",
       "tt4154796       181     USA         Marvel Studios       8.4  356000000.0   \n",
       "tt0120338       194     USA  Twentieth Century Fox       7.8  200000000.0   \n",
       "tt2488496       138     USA              Lucasfilm       7.9  245000000.0   \n",
       "tt4154756       149     USA         Marvel Studios       8.4  321000000.0   \n",
       "\n",
       "          usa_gross_income  worlwide_gross_income  metascore  \\\n",
       "imdb_id                                                        \n",
       "tt0499549        760507625           2.790439e+09       83.0   \n",
       "tt4154796        858373000           2.797801e+09       78.0   \n",
       "tt0120338        659363944           2.195170e+09       75.0   \n",
       "tt2488496        936662225           2.068224e+09       80.0   \n",
       "tt4154756        678815482           2.048360e+09       68.0   \n",
       "\n",
       "                             genres genre_1    genre_2  genre_3        profit  \n",
       "imdb_id                                                                        \n",
       "tt0499549  Action,Adventure,Fantasy  Action  Adventure  Fantasy  1.532063e+09  \n",
       "tt4154796   Action,Adventure,Sci-Fi  Action  Adventure    Drama  1.465080e+09  \n",
       "tt0120338             Drama,Romance   Drama    Romance     None  1.197102e+09  \n",
       "tt2488496  Action,Adventure,Fantasy  Action  Adventure   Sci-Fi  1.093934e+09  \n",
       "tt4154756   Action,Adventure,Sci-Fi  Action  Adventure   Sci-Fi  1.036416e+09  "
      ]
     },
     "execution_count": 66,
     "metadata": {},
     "output_type": "execute_result"
    }
   ],
   "source": [
    "# Movies with the highest profits\n",
    "df.nlargest(5, 'profit')"
   ]
  },
  {
   "cell_type": "code",
   "execution_count": 115,
   "metadata": {
    "scrolled": false
   },
   "outputs": [
    {
     "data": {
      "text/plain": [
       "[Text(92.0, 0.5, 'Profit in Millions of Dollars'), Text(0.5, 25.0, 'Title')]"
      ]
     },
     "execution_count": 115,
     "metadata": {},
     "output_type": "execute_result"
    },
    {
     "data": {
      "image/png": "[encoded data removed]",
      "text/plain": [
       "<Figure size 936x360 with 1 Axes>"
      ]
     },
     "metadata": {},
     "output_type": "display_data"
    }
   ],
   "source": [
    "# Creates a barplot with the top 5 movies with the highest profits\n",
    "top_profits = df.nlargest(5,'profit')\n",
    "# Create a profit in millions of dollars\n",
    "top_profits['profit_million'] = top_profits['profit']/1000000\n",
    "top_profits['gross_income_million'] = top_profits['worlwide_gross_income']/1000000\n",
    "plt.figure(figsize=(13, 5))\n",
    "plt.ticklabel_format(style='plain', axis='y')\n",
    "plt.savefig('destination_path.eps', format='eps')\n",
    "top_profits = sns.barplot(x='original_title', y='profit_million', data=top_profits,palette=\"mako\")\n",
    "top_profits.set_title('Most Profitable Movies', fontdict={'fontsize':16});\n",
    "top_profits.set(xlabel='Title', ylabel='Profit in Millions of Dollars')"
   ]
  },
  {
   "cell_type": "code",
   "execution_count": 116,
   "metadata": {
    "scrolled": true
   },
   "outputs": [
    {
     "name": "stdout",
     "output_type": "stream",
     "text": [
      "Most Profitable Movies (in Millions of dollars)\n",
      "\n",
      "Avatar - 1532.0634552000001\n",
      "Avengers: Endgame - 1465.0803383999998\n",
      "Titanic - 1197.1019213999998\n",
      "Star Wars: The Force Awakens - 1093.9344216\n",
      "Avengers: Infinity War - 1036.4158524\n",
      "Jurassic World - 912.2408664\n",
      "The Lion King - 838.178274\n",
      "Fast & Furious 7 - 795.0288906000001\n",
      "Frozen II - 780.0161598\n",
      "The Avengers - 779.2885236000001\n"
     ]
    }
   ],
   "source": [
    "# Creates a dictionary and a for loop with the top 5 movies with the highest profit\n",
    "df_top_profit = df.filter(['original_title','profit'], axis=1)\n",
    "df_top_profit.set_index('original_title',inplace=True)\n",
    "profit_dict = dict(df_top_profit.nlargest(10, 'profit')['profit'])\n",
    "profit_dict\n",
    "\n",
    "print('Most Profitable Movies (in Millions of dollars)\\n')\n",
    "for x,y in profit_dict.items():\n",
    "    print(x,'-',y/1000000) "
   ]
  },
  {
   "cell_type": "code",
   "execution_count": 117,
   "metadata": {
    "scrolled": false
   },
   "outputs": [
    {
     "data": {
      "text/plain": [
       "[Text(92.0, 0.5, 'Loses in Millions of Dollars'), Text(0.5, 25.0, 'Title')]"
      ]
     },
     "execution_count": 117,
     "metadata": {},
     "output_type": "execute_result"
    },
    {
     "data": {
      "image/png": "[encoded data removed]",
      "text/plain": [
       "<Figure size 936x360 with 1 Axes>"
      ]
     },
     "metadata": {},
     "output_type": "display_data"
    }
   ],
   "source": [
    "# Creates a barplot with the top 5 movies with the smallest profit\n",
    "top_profits = df.nsmallest(5,'profit')\n",
    "top_profits['profit_million'] = top_profits['profit']/1000000\n",
    "top_profits['gross_income_million'] = top_profits['worlwide_gross_income']/1000000\n",
    "plt.figure(figsize=(13, 5))\n",
    "plt.ticklabel_format(style='plain', axis='y')\n",
    "plt.savefig('destination_path.eps', format='eps')\n",
    "top_profits = sns.barplot(x='original_title', y='profit_million', data=top_profits,palette=\"rocket\")\n",
    "top_profits.set_title('Movies With Highest Loses', fontdict={'fontsize':16});\n",
    "top_profits.set(xlabel='Title', ylabel='Loses in Millions of Dollars')"
   ]
  },
  {
   "cell_type": "code",
   "execution_count": 119,
   "metadata": {},
   "outputs": [
    {
     "data": {
      "text/plain": [
       "{'The Irishman': -158031147.0,\n",
       " 'Mars Needs Moms': -110766322.0,\n",
       " 'The 13th Warrior': -98301101.0,\n",
       " 'The Adventures of Pluto Nash': -92896027.0,\n",
       " 'Live by Night': -85321445.0,\n",
       " 'Pawn': -82995859.0,\n",
       " 'The Alamo': -81180039.0,\n",
       " 'Town & Country': -79627709.0,\n",
       " 'Trolls World Tour': -75921732.0,\n",
       " 'Supernova': -75171919.0}"
      ]
     },
     "execution_count": 119,
     "metadata": {},
     "output_type": "execute_result"
    }
   ],
   "source": [
    "# Creates a dictionary with the top 5 movies with the smallest profit\n",
    "df_top_profit = df.filter(['original_title','profit'], axis=1)\n",
    "df_top_profit.set_index('original_title',inplace=True)\n",
    "profit_dict = dict(df_top_profit.nsmallest(10, 'profit')['profit'])\n",
    "profit_dict"
   ]
  },
  {
   "cell_type": "markdown",
   "metadata": {},
   "source": [
    "### 6.4 Correlatalion between budget and higher profits"
   ]
  },
  {
   "cell_type": "code",
   "execution_count": 104,
   "metadata": {
    "scrolled": false
   },
   "outputs": [
    {
     "data": {
      "text/plain": [
       "[Text(0, 0.5, 'Worldwide Gross Income'), Text(0.5, 0, 'Budget')]"
      ]
     },
     "execution_count": 104,
     "metadata": {},
     "output_type": "execute_result"
    },
    {
     "data": {
      "image/png": "[encoded data removed]",
      "text/plain": [
       "<Figure size 1296x432 with 1 Axes>"
      ]
     },
     "metadata": {},
     "output_type": "display_data"
    }
   ],
   "source": [
    "# Using a scatter plot to see the relation between budget and profits\n",
    "plt.figure(figsize=(18, 6))\n",
    "plt.savefig('destination_path.eps', format='eps')\n",
    "plt.ticklabel_format(style='plain', axis='y')\n",
    "ax = sns.regplot(x=\"budget\", y=\"worlwide_gross_income\",data=df)\n",
    "ax.set_title('Correlation Between Budget and Box Office', fontdict={'fontsize':12});\n",
    "ax.set(xlabel='Budget', ylabel='Worldwide Gross Income')"
   ]
  },
  {
   "cell_type": "code",
   "execution_count": 72,
   "metadata": {
    "scrolled": true
   },
   "outputs": [
    {
     "data": {
      "text/plain": [
       "0.7694994492945896"
      ]
     },
     "execution_count": 72,
     "metadata": {},
     "output_type": "execute_result"
    }
   ],
   "source": [
    "# Analysing the correlation between budget and profits\n",
    "budget_revenue_corr = df.budget.corr(df.worlwide_gross_income)\n",
    "budget_revenue_corr"
   ]
  },
  {
   "cell_type": "code",
   "execution_count": 121,
   "metadata": {},
   "outputs": [
    {
     "data": {
      "text/plain": [
       "<seaborn.axisgrid.FacetGrid at 0x7fbc24f853c8>"
      ]
     },
     "execution_count": 121,
     "metadata": {},
     "output_type": "execute_result"
    },
    {
     "data": {
      "text/plain": [
       "<Figure size 576x396 with 0 Axes>"
      ]
     },
     "metadata": {},
     "output_type": "display_data"
    },
    {
     "data": {
      "image/png": "[encoded data removed]",
      "text/plain": [
       "<Figure size 530x360 with 1 Axes>"
      ]
     },
     "metadata": {},
     "output_type": "display_data"
    }
   ],
   "source": [
    "top_profits = df.nsmallest(10,'profit')\n",
    "top_profits['profit_million'] = top_profits['profit']/1000000\n",
    "top_profits['budget_million'] = top_profits['budget']/1000000\n",
    "plt.savefig('destination_path.eps', format='eps')\n",
    "ax = sns.catplot(x=\"budget_million\", y=\"profit_million\", hue=\"original_title\", data=top_profits)\n",
    "ax.set(xlabel='Budget in Millions of Dollars', ylabel='Losses in Millions of Dollars')"
   ]
  },
  {
   "cell_type": "markdown",
   "metadata": {},
   "source": [
    "<strong>Takeaways:</strong> We can say that a higher budget has a strong positive correlation with higher profits."
   ]
  },
  {
   "cell_type": "markdown",
   "metadata": {},
   "source": [
    "# 7. Other Correlations"
   ]
  },
  {
   "cell_type": "code",
   "execution_count": 122,
   "metadata": {
    "scrolled": false
   },
   "outputs": [
    {
     "data": {
      "image/png": "[encoded data removed]",
      "text/plain": [
       "<Figure size 864x432 with 2 Axes>"
      ]
     },
     "metadata": {},
     "output_type": "display_data"
    }
   ],
   "source": [
    "# Increase the size of the heatmap\n",
    "plt.figure(figsize=(12, 6))\n",
    "plt.savefig('destination_path.eps', format='eps')\n",
    "# Store the heatmap variable to use easily when applying other features\n",
    "# Set the range of values to be displayed on the colormap from -1 to 1, and set the annotation to True to display the correlation values on the heatmap.\n",
    "heatmap = sns.heatmap(df.corr(), vmin=-1, vmax=1, annot=True, cmap='BrBG',annot_kws={\"size\": 12})\n",
    "# This fixes a randoring problem on the top and bottom of the heatmap\n",
    "plt.ylim([7,0])\n",
    "plt.style.use('seaborn')\n",
    "# Adding a title to the heatmap. Pad defines the distance of the title from the top of the heatmap.\n",
    "heatmap.set_title('Correlation Heatmap', fontdict={'fontsize':14}, pad=14);"
   ]
  },
  {
   "cell_type": "markdown",
   "metadata": {},
   "source": [
    "<strong>Takeaways:</strong> \n",
    "\n",
    "- Higher budget and higher profits have a moderate correlation\n",
    "- Budget and box office have a strong correlation\n",
    "- Duration and average vote have a moderate correlation\n",
    "- Budget and duration have a moderate correlation"
   ]
  },
  {
   "cell_type": "markdown",
   "metadata": {},
   "source": [
    "# 8. Most Profitable Genres Group\n",
    "\n",
    "- Find the most profitable individual genre and group of genres - net and per dollar invested\n",
    "\n",
    "Note: The profit column values represent the  subtraction of the values in the worlwide_gross_income column by the values under the budget column minus 40%, which is the the revenue margin destinated to movie theaters.\n",
    "\n",
    "### 8.1 Make a copy of the main DataFrame"
   ]
  },
  {
   "cell_type": "code",
   "execution_count": 77,
   "metadata": {},
   "outputs": [],
   "source": [
    "# Dropping extra genres columns\n",
    "df.drop(columns=['genres', 'genre_1', 'genre_2','genre_3'], inplace=True)"
   ]
  },
  {
   "cell_type": "code",
   "execution_count": 78,
   "metadata": {},
   "outputs": [],
   "source": [
    "# Making a copy of the the main DataFrame in case something goes wrong\n",
    "df_genre_mean = df.copy()"
   ]
  },
  {
   "cell_type": "code",
   "execution_count": 79,
   "metadata": {
    "scrolled": true
   },
   "outputs": [
    {
     "data": {
      "text/html": [
       "<div>\n",
       "<style scoped>\n",
       "    .dataframe tbody tr th:only-of-type {\n",
       "        vertical-align: middle;\n",
       "    }\n",
       "\n",
       "    .dataframe tbody tr th {\n",
       "        vertical-align: top;\n",
       "    }\n",
       "\n",
       "    .dataframe thead th {\n",
       "        text-align: right;\n",
       "    }\n",
       "</style>\n",
       "<table border=\"1\" class=\"dataframe\">\n",
       "  <thead>\n",
       "    <tr style=\"text-align: right;\">\n",
       "      <th></th>\n",
       "      <th>original_title</th>\n",
       "      <th>year</th>\n",
       "      <th>genre</th>\n",
       "      <th>duration</th>\n",
       "      <th>country</th>\n",
       "      <th>production_company</th>\n",
       "      <th>avg_vote</th>\n",
       "      <th>budget</th>\n",
       "      <th>usa_gross_income</th>\n",
       "      <th>worlwide_gross_income</th>\n",
       "      <th>metascore</th>\n",
       "      <th>profit</th>\n",
       "    </tr>\n",
       "    <tr>\n",
       "      <th>imdb_id</th>\n",
       "      <th></th>\n",
       "      <th></th>\n",
       "      <th></th>\n",
       "      <th></th>\n",
       "      <th></th>\n",
       "      <th></th>\n",
       "      <th></th>\n",
       "      <th></th>\n",
       "      <th></th>\n",
       "      <th></th>\n",
       "      <th></th>\n",
       "      <th></th>\n",
       "    </tr>\n",
       "  </thead>\n",
       "  <tbody>\n",
       "    <tr>\n",
       "      <th>tt0035423</th>\n",
       "      <td>Kate &amp; Leopold</td>\n",
       "      <td>2001</td>\n",
       "      <td>Comedy,Fantasy,Romance</td>\n",
       "      <td>118</td>\n",
       "      <td>USA</td>\n",
       "      <td>Konrad Pictures</td>\n",
       "      <td>6.4</td>\n",
       "      <td>48000000.0</td>\n",
       "      <td>47121859</td>\n",
       "      <td>76019048.0</td>\n",
       "      <td>44.0</td>\n",
       "      <td>16811428.8</td>\n",
       "    </tr>\n",
       "    <tr>\n",
       "      <th>tt0097176</th>\n",
       "      <td>Deceit</td>\n",
       "      <td>1990</td>\n",
       "      <td>Comedy,Sci-Fi</td>\n",
       "      <td>90</td>\n",
       "      <td>USA</td>\n",
       "      <td>21st Century Film Corporation</td>\n",
       "      <td>4.8</td>\n",
       "      <td>25000.0</td>\n",
       "      <td>0</td>\n",
       "      <td>0.0</td>\n",
       "      <td>NaN</td>\n",
       "      <td>-25000.0</td>\n",
       "    </tr>\n",
       "  </tbody>\n",
       "</table>\n",
       "</div>"
      ],
      "text/plain": [
       "           original_title  year                   genre  duration country  \\\n",
       "imdb_id                                                                     \n",
       "tt0035423  Kate & Leopold  2001  Comedy,Fantasy,Romance       118     USA   \n",
       "tt0097176          Deceit  1990           Comedy,Sci-Fi        90     USA   \n",
       "\n",
       "                      production_company  avg_vote      budget  \\\n",
       "imdb_id                                                          \n",
       "tt0035423                Konrad Pictures       6.4  48000000.0   \n",
       "tt0097176  21st Century Film Corporation       4.8     25000.0   \n",
       "\n",
       "          usa_gross_income  worlwide_gross_income  metascore      profit  \n",
       "imdb_id                                                                   \n",
       "tt0035423         47121859             76019048.0       44.0  16811428.8  \n",
       "tt0097176                0                    0.0        NaN    -25000.0  "
      ]
     },
     "execution_count": 79,
     "metadata": {},
     "output_type": "execute_result"
    }
   ],
   "source": [
    "# Checking if the copy was successful\n",
    "df_genre_mean.head(2)"
   ]
  },
  {
   "cell_type": "markdown",
   "metadata": {},
   "source": [
    "### 8.2 Create a new data frame\n",
    "\n",
    "A new DataFrame will be used to easily access the mean values for the genres groups. The new DataFrame will have values divided by 1,000,000. The objective is to make the readness easy to be done."
   ]
  },
  {
   "cell_type": "code",
   "execution_count": 80,
   "metadata": {},
   "outputs": [],
   "source": [
    "# This code allows pandas to show all the rows\n",
    "pd.set_option('display.max_rows', None)\n",
    "# Group data by genre and get mean for each genre and each variable, divide by 1 million for better visibility\n",
    "df_genre_mean = df_genre_mean.groupby(['genre']).mean()\n",
    "df_genre_mean ['profit_million'] = df_genre_mean['profit']/1000000\n",
    "df_genre_mean['return_per_dollar'] = df_genre_mean['profit']/df_genre_mean['budget']\n",
    "# Delete the 'profit' column\n",
    "del df_genre_mean['profit']\n",
    "df_genre_mean['worlwide_gross_income'] = df_genre_mean['worlwide_gross_income']/1000000\n",
    "# Delete the 'worlwide_gross_income' column\n",
    "del df_genre_mean['worlwide_gross_income']\n",
    "df_genre_mean['budget_million'] = df_genre_mean['budget']/1000000\n",
    "# Delete the 'budget' column\n",
    "del df_genre_mean['budget']\n",
    "# Delete the 'year' column\n",
    "del df_genre_mean['year']"
   ]
  },
  {
   "cell_type": "code",
   "execution_count": 81,
   "metadata": {
    "scrolled": true
   },
   "outputs": [
    {
     "data": {
      "text/html": [
       "<div>\n",
       "<style scoped>\n",
       "    .dataframe tbody tr th:only-of-type {\n",
       "        vertical-align: middle;\n",
       "    }\n",
       "\n",
       "    .dataframe tbody tr th {\n",
       "        vertical-align: top;\n",
       "    }\n",
       "\n",
       "    .dataframe thead th {\n",
       "        text-align: right;\n",
       "    }\n",
       "</style>\n",
       "<table border=\"1\" class=\"dataframe\">\n",
       "  <thead>\n",
       "    <tr style=\"text-align: right;\">\n",
       "      <th></th>\n",
       "      <th>duration</th>\n",
       "      <th>avg_vote</th>\n",
       "      <th>metascore</th>\n",
       "      <th>profit_million</th>\n",
       "      <th>return_per_dollar</th>\n",
       "      <th>budget_million</th>\n",
       "    </tr>\n",
       "    <tr>\n",
       "      <th>genre</th>\n",
       "      <th></th>\n",
       "      <th></th>\n",
       "      <th></th>\n",
       "      <th></th>\n",
       "      <th></th>\n",
       "      <th></th>\n",
       "    </tr>\n",
       "  </thead>\n",
       "  <tbody>\n",
       "    <tr>\n",
       "      <th>Action</th>\n",
       "      <td>96.666667</td>\n",
       "      <td>4.433333</td>\n",
       "      <td>37.500000</td>\n",
       "      <td>-3.541623</td>\n",
       "      <td>-0.532130</td>\n",
       "      <td>6.655556</td>\n",
       "    </tr>\n",
       "    <tr>\n",
       "      <th>Action,Adventure</th>\n",
       "      <td>110.800000</td>\n",
       "      <td>5.380000</td>\n",
       "      <td>62.000000</td>\n",
       "      <td>126.257263</td>\n",
       "      <td>1.378354</td>\n",
       "      <td>91.600000</td>\n",
       "    </tr>\n",
       "    <tr>\n",
       "      <th>Action,Adventure,Biography</th>\n",
       "      <td>129.000000</td>\n",
       "      <td>6.800000</td>\n",
       "      <td>50.500000</td>\n",
       "      <td>-0.627434</td>\n",
       "      <td>-0.006274</td>\n",
       "      <td>100.000000</td>\n",
       "    </tr>\n",
       "    <tr>\n",
       "      <th>Action,Adventure,Comedy</th>\n",
       "      <td>104.258427</td>\n",
       "      <td>5.844944</td>\n",
       "      <td>49.197368</td>\n",
       "      <td>72.578918</td>\n",
       "      <td>1.078914</td>\n",
       "      <td>67.270337</td>\n",
       "    </tr>\n",
       "    <tr>\n",
       "      <th>Action,Adventure,Crime</th>\n",
       "      <td>105.200000</td>\n",
       "      <td>5.680000</td>\n",
       "      <td>44.052632</td>\n",
       "      <td>24.016923</td>\n",
       "      <td>0.514987</td>\n",
       "      <td>46.636000</td>\n",
       "    </tr>\n",
       "  </tbody>\n",
       "</table>\n",
       "</div>"
      ],
      "text/plain": [
       "                              duration  avg_vote  metascore  profit_million  \\\n",
       "genre                                                                         \n",
       "Action                       96.666667  4.433333  37.500000       -3.541623   \n",
       "Action,Adventure            110.800000  5.380000  62.000000      126.257263   \n",
       "Action,Adventure,Biography  129.000000  6.800000  50.500000       -0.627434   \n",
       "Action,Adventure,Comedy     104.258427  5.844944  49.197368       72.578918   \n",
       "Action,Adventure,Crime      105.200000  5.680000  44.052632       24.016923   \n",
       "\n",
       "                            return_per_dollar  budget_million  \n",
       "genre                                                          \n",
       "Action                              -0.532130        6.655556  \n",
       "Action,Adventure                     1.378354       91.600000  \n",
       "Action,Adventure,Biography          -0.006274      100.000000  \n",
       "Action,Adventure,Comedy              1.078914       67.270337  \n",
       "Action,Adventure,Crime               0.514987       46.636000  "
      ]
     },
     "execution_count": 81,
     "metadata": {},
     "output_type": "execute_result"
    }
   ],
   "source": [
    "# Checking if the new DataFrame is working properly\n",
    "df_genre_mean.head()"
   ]
  },
  {
   "cell_type": "markdown",
   "metadata": {},
   "source": [
    "### 8.3 Most profitable group of genres (net)"
   ]
  },
  {
   "cell_type": "code",
   "execution_count": 82,
   "metadata": {
    "scrolled": false
   },
   "outputs": [
    {
     "data": {
      "text/html": [
       "<div>\n",
       "<style scoped>\n",
       "    .dataframe tbody tr th:only-of-type {\n",
       "        vertical-align: middle;\n",
       "    }\n",
       "\n",
       "    .dataframe tbody tr th {\n",
       "        vertical-align: top;\n",
       "    }\n",
       "\n",
       "    .dataframe thead th {\n",
       "        text-align: right;\n",
       "    }\n",
       "</style>\n",
       "<table border=\"1\" class=\"dataframe\">\n",
       "  <thead>\n",
       "    <tr style=\"text-align: right;\">\n",
       "      <th></th>\n",
       "      <th>duration</th>\n",
       "      <th>avg_vote</th>\n",
       "      <th>metascore</th>\n",
       "      <th>profit_million</th>\n",
       "      <th>return_per_dollar</th>\n",
       "      <th>budget_million</th>\n",
       "    </tr>\n",
       "    <tr>\n",
       "      <th>genre</th>\n",
       "      <th></th>\n",
       "      <th></th>\n",
       "      <th></th>\n",
       "      <th></th>\n",
       "      <th></th>\n",
       "      <th></th>\n",
       "    </tr>\n",
       "  </thead>\n",
       "  <tbody>\n",
       "    <tr>\n",
       "      <th>Family,Fantasy,Musical</th>\n",
       "      <td>129.000000</td>\n",
       "      <td>7.100000</td>\n",
       "      <td>65.000000</td>\n",
       "      <td>662.438628</td>\n",
       "      <td>4.140241</td>\n",
       "      <td>160.000000</td>\n",
       "    </tr>\n",
       "    <tr>\n",
       "      <th>Animation,Adventure,Drama</th>\n",
       "      <td>93.833333</td>\n",
       "      <td>7.250000</td>\n",
       "      <td>63.000000</td>\n",
       "      <td>289.253644</td>\n",
       "      <td>3.099146</td>\n",
       "      <td>93.333333</td>\n",
       "    </tr>\n",
       "    <tr>\n",
       "      <th>Action,Drama,Music</th>\n",
       "      <td>129.000000</td>\n",
       "      <td>6.300000</td>\n",
       "      <td>39.000000</td>\n",
       "      <td>231.604044</td>\n",
       "      <td>9.264162</td>\n",
       "      <td>25.000000</td>\n",
       "    </tr>\n",
       "    <tr>\n",
       "      <th>Biography,Drama,Musical</th>\n",
       "      <td>105.000000</td>\n",
       "      <td>7.600000</td>\n",
       "      <td>48.000000</td>\n",
       "      <td>210.651842</td>\n",
       "      <td>2.507760</td>\n",
       "      <td>84.000000</td>\n",
       "    </tr>\n",
       "    <tr>\n",
       "      <th>Action,Adventure,Sci-Fi</th>\n",
       "      <td>123.116071</td>\n",
       "      <td>6.421429</td>\n",
       "      <td>52.794393</td>\n",
       "      <td>208.141854</td>\n",
       "      <td>1.547780</td>\n",
       "      <td>134.477679</td>\n",
       "    </tr>\n",
       "    <tr>\n",
       "      <th>Adventure,Drama,Fantasy</th>\n",
       "      <td>119.200000</td>\n",
       "      <td>6.610000</td>\n",
       "      <td>63.500000</td>\n",
       "      <td>197.027464</td>\n",
       "      <td>3.293672</td>\n",
       "      <td>59.820000</td>\n",
       "    </tr>\n",
       "    <tr>\n",
       "      <th>Animation,Adventure,Comedy</th>\n",
       "      <td>90.944000</td>\n",
       "      <td>6.448000</td>\n",
       "      <td>58.882353</td>\n",
       "      <td>165.986085</td>\n",
       "      <td>1.808857</td>\n",
       "      <td>91.762960</td>\n",
       "    </tr>\n",
       "    <tr>\n",
       "      <th>Adventure,Mystery,Sci-Fi</th>\n",
       "      <td>124.000000</td>\n",
       "      <td>7.000000</td>\n",
       "      <td>64.000000</td>\n",
       "      <td>164.012681</td>\n",
       "      <td>1.261636</td>\n",
       "      <td>130.000000</td>\n",
       "    </tr>\n",
       "    <tr>\n",
       "      <th>Action,Adventure,Fantasy</th>\n",
       "      <td>114.250000</td>\n",
       "      <td>5.783333</td>\n",
       "      <td>43.343750</td>\n",
       "      <td>152.540895</td>\n",
       "      <td>1.469910</td>\n",
       "      <td>103.775694</td>\n",
       "    </tr>\n",
       "    <tr>\n",
       "      <th>Adventure,Sci-Fi,Thriller</th>\n",
       "      <td>115.000000</td>\n",
       "      <td>6.100000</td>\n",
       "      <td>53.500000</td>\n",
       "      <td>144.856958</td>\n",
       "      <td>1.248767</td>\n",
       "      <td>116.000000</td>\n",
       "    </tr>\n",
       "  </tbody>\n",
       "</table>\n",
       "</div>"
      ],
      "text/plain": [
       "                              duration  avg_vote  metascore  profit_million  \\\n",
       "genre                                                                         \n",
       "Family,Fantasy,Musical      129.000000  7.100000  65.000000      662.438628   \n",
       "Animation,Adventure,Drama    93.833333  7.250000  63.000000      289.253644   \n",
       "Action,Drama,Music          129.000000  6.300000  39.000000      231.604044   \n",
       "Biography,Drama,Musical     105.000000  7.600000  48.000000      210.651842   \n",
       "Action,Adventure,Sci-Fi     123.116071  6.421429  52.794393      208.141854   \n",
       "Adventure,Drama,Fantasy     119.200000  6.610000  63.500000      197.027464   \n",
       "Animation,Adventure,Comedy   90.944000  6.448000  58.882353      165.986085   \n",
       "Adventure,Mystery,Sci-Fi    124.000000  7.000000  64.000000      164.012681   \n",
       "Action,Adventure,Fantasy    114.250000  5.783333  43.343750      152.540895   \n",
       "Adventure,Sci-Fi,Thriller   115.000000  6.100000  53.500000      144.856958   \n",
       "\n",
       "                            return_per_dollar  budget_million  \n",
       "genre                                                          \n",
       "Family,Fantasy,Musical               4.140241      160.000000  \n",
       "Animation,Adventure,Drama            3.099146       93.333333  \n",
       "Action,Drama,Music                   9.264162       25.000000  \n",
       "Biography,Drama,Musical              2.507760       84.000000  \n",
       "Action,Adventure,Sci-Fi              1.547780      134.477679  \n",
       "Adventure,Drama,Fantasy              3.293672       59.820000  \n",
       "Animation,Adventure,Comedy           1.808857       91.762960  \n",
       "Adventure,Mystery,Sci-Fi             1.261636      130.000000  \n",
       "Action,Adventure,Fantasy             1.469910      103.775694  \n",
       "Adventure,Sci-Fi,Thriller            1.248767      116.000000  "
      ]
     },
     "execution_count": 82,
     "metadata": {},
     "output_type": "execute_result"
    }
   ],
   "source": [
    "# Sorting values by the profit_million column. It's in descending order.\n",
    "df_genre_mean.sort_values(by=['profit_million'],ascending=False).head(10)"
   ]
  },
  {
   "cell_type": "code",
   "execution_count": 83,
   "metadata": {
    "scrolled": true
   },
   "outputs": [
    {
     "data": {
      "text/plain": [
       "genre\n",
       "Family,Fantasy,Musical       662.438628\n",
       "Animation,Adventure,Drama    289.253644\n",
       "Action,Drama,Music           231.604044\n",
       "Biography,Drama,Musical      210.651842\n",
       "Action,Adventure,Sci-Fi      208.141854\n",
       "Name: profit_million, dtype: float64"
      ]
     },
     "execution_count": 83,
     "metadata": {},
     "output_type": "execute_result"
    }
   ],
   "source": [
    "# Dictionary with the group of genres with the highest profits\n",
    "dict(df_genre_mean.nlargest(5,'profit_million'))['profit_million']"
   ]
  },
  {
   "cell_type": "code",
   "execution_count": 123,
   "metadata": {},
   "outputs": [
    {
     "data": {
      "text/plain": [
       "[Text(0, 0.5, 'Profit In Millions'), Text(0.5, 0, 'Title')]"
      ]
     },
     "execution_count": 123,
     "metadata": {},
     "output_type": "execute_result"
    },
    {
     "data": {
      "image/png": "[encoded data removed]",
      "text/plain": [
       "<Figure size 864x360 with 1 Axes>"
      ]
     },
     "metadata": {},
     "output_type": "display_data"
    }
   ],
   "source": [
    "genre_group_net = df_genre_mean.nlargest(5,'profit_million')\n",
    "plt.figure(figsize=(12, 5))\n",
    "plt.savefig('destination_path.eps', format='eps')\n",
    "genre_group_net = sns.barplot(x='genre', y='profit_million', data=genre_group_net.reset_index(),palette=\"mako\")\n",
    "genre_group_net.set_title('Most Profitable Group of Genres', fontdict={'fontsize':14});\n",
    "genre_group_net.set(xlabel='Title', ylabel='Profit In Millions')"
   ]
  },
  {
   "cell_type": "markdown",
   "metadata": {},
   "source": [
    "### 8.4 Return per dollar invested"
   ]
  },
  {
   "cell_type": "code",
   "execution_count": 85,
   "metadata": {
    "scrolled": false
   },
   "outputs": [
    {
     "data": {
      "text/html": [
       "<div>\n",
       "<style scoped>\n",
       "    .dataframe tbody tr th:only-of-type {\n",
       "        vertical-align: middle;\n",
       "    }\n",
       "\n",
       "    .dataframe tbody tr th {\n",
       "        vertical-align: top;\n",
       "    }\n",
       "\n",
       "    .dataframe thead th {\n",
       "        text-align: right;\n",
       "    }\n",
       "</style>\n",
       "<table border=\"1\" class=\"dataframe\">\n",
       "  <thead>\n",
       "    <tr style=\"text-align: right;\">\n",
       "      <th></th>\n",
       "      <th>duration</th>\n",
       "      <th>avg_vote</th>\n",
       "      <th>metascore</th>\n",
       "      <th>profit_million</th>\n",
       "      <th>return_per_dollar</th>\n",
       "      <th>budget_million</th>\n",
       "    </tr>\n",
       "    <tr>\n",
       "      <th>genre</th>\n",
       "      <th></th>\n",
       "      <th></th>\n",
       "      <th></th>\n",
       "      <th></th>\n",
       "      <th></th>\n",
       "      <th></th>\n",
       "    </tr>\n",
       "  </thead>\n",
       "  <tbody>\n",
       "    <tr>\n",
       "      <th>Adventure,Drama,Horror</th>\n",
       "      <td>89.666667</td>\n",
       "      <td>5.833333</td>\n",
       "      <td>48.500000</td>\n",
       "      <td>10.834668</td>\n",
       "      <td>64.225864</td>\n",
       "      <td>0.168696</td>\n",
       "    </tr>\n",
       "    <tr>\n",
       "      <th>Action,Comedy,Musical</th>\n",
       "      <td>76.000000</td>\n",
       "      <td>4.000000</td>\n",
       "      <td>NaN</td>\n",
       "      <td>0.014464</td>\n",
       "      <td>13.148727</td>\n",
       "      <td>0.001100</td>\n",
       "    </tr>\n",
       "    <tr>\n",
       "      <th>Adventure,Drama,Western</th>\n",
       "      <td>142.000000</td>\n",
       "      <td>6.850000</td>\n",
       "      <td>58.500000</td>\n",
       "      <td>119.775265</td>\n",
       "      <td>9.981272</td>\n",
       "      <td>12.000000</td>\n",
       "    </tr>\n",
       "    <tr>\n",
       "      <th>Action,Drama,Music</th>\n",
       "      <td>129.000000</td>\n",
       "      <td>6.300000</td>\n",
       "      <td>39.000000</td>\n",
       "      <td>231.604044</td>\n",
       "      <td>9.264162</td>\n",
       "      <td>25.000000</td>\n",
       "    </tr>\n",
       "    <tr>\n",
       "      <th>Crime,Horror,Thriller</th>\n",
       "      <td>95.222222</td>\n",
       "      <td>5.166667</td>\n",
       "      <td>48.400000</td>\n",
       "      <td>25.982847</td>\n",
       "      <td>4.868740</td>\n",
       "      <td>5.336668</td>\n",
       "    </tr>\n",
       "    <tr>\n",
       "      <th>Biography,Comedy,Romance</th>\n",
       "      <td>87.000000</td>\n",
       "      <td>5.400000</td>\n",
       "      <td>36.000000</td>\n",
       "      <td>0.288982</td>\n",
       "      <td>4.816360</td>\n",
       "      <td>0.060000</td>\n",
       "    </tr>\n",
       "    <tr>\n",
       "      <th>Family,Fantasy,Musical</th>\n",
       "      <td>129.000000</td>\n",
       "      <td>7.100000</td>\n",
       "      <td>65.000000</td>\n",
       "      <td>662.438628</td>\n",
       "      <td>4.140241</td>\n",
       "      <td>160.000000</td>\n",
       "    </tr>\n",
       "    <tr>\n",
       "      <th>Comedy,Musical,Romance</th>\n",
       "      <td>96.666667</td>\n",
       "      <td>5.066667</td>\n",
       "      <td>32.500000</td>\n",
       "      <td>105.811388</td>\n",
       "      <td>3.778978</td>\n",
       "      <td>28.000000</td>\n",
       "    </tr>\n",
       "    <tr>\n",
       "      <th>Drama,Fantasy,Music</th>\n",
       "      <td>107.000000</td>\n",
       "      <td>6.700000</td>\n",
       "      <td>46.000000</td>\n",
       "      <td>40.364906</td>\n",
       "      <td>3.669537</td>\n",
       "      <td>11.000000</td>\n",
       "    </tr>\n",
       "    <tr>\n",
       "      <th>Action,Drama,Family</th>\n",
       "      <td>111.000000</td>\n",
       "      <td>5.333333</td>\n",
       "      <td>40.333333</td>\n",
       "      <td>63.767142</td>\n",
       "      <td>3.510118</td>\n",
       "      <td>18.166667</td>\n",
       "    </tr>\n",
       "  </tbody>\n",
       "</table>\n",
       "</div>"
      ],
      "text/plain": [
       "                            duration  avg_vote  metascore  profit_million  \\\n",
       "genre                                                                       \n",
       "Adventure,Drama,Horror     89.666667  5.833333  48.500000       10.834668   \n",
       "Action,Comedy,Musical      76.000000  4.000000        NaN        0.014464   \n",
       "Adventure,Drama,Western   142.000000  6.850000  58.500000      119.775265   \n",
       "Action,Drama,Music        129.000000  6.300000  39.000000      231.604044   \n",
       "Crime,Horror,Thriller      95.222222  5.166667  48.400000       25.982847   \n",
       "Biography,Comedy,Romance   87.000000  5.400000  36.000000        0.288982   \n",
       "Family,Fantasy,Musical    129.000000  7.100000  65.000000      662.438628   \n",
       "Comedy,Musical,Romance     96.666667  5.066667  32.500000      105.811388   \n",
       "Drama,Fantasy,Music       107.000000  6.700000  46.000000       40.364906   \n",
       "Action,Drama,Family       111.000000  5.333333  40.333333       63.767142   \n",
       "\n",
       "                          return_per_dollar  budget_million  \n",
       "genre                                                        \n",
       "Adventure,Drama,Horror            64.225864        0.168696  \n",
       "Action,Comedy,Musical             13.148727        0.001100  \n",
       "Adventure,Drama,Western            9.981272       12.000000  \n",
       "Action,Drama,Music                 9.264162       25.000000  \n",
       "Crime,Horror,Thriller              4.868740        5.336668  \n",
       "Biography,Comedy,Romance           4.816360        0.060000  \n",
       "Family,Fantasy,Musical             4.140241      160.000000  \n",
       "Comedy,Musical,Romance             3.778978       28.000000  \n",
       "Drama,Fantasy,Music                3.669537       11.000000  \n",
       "Action,Drama,Family                3.510118       18.166667  "
      ]
     },
     "execution_count": 85,
     "metadata": {},
     "output_type": "execute_result"
    }
   ],
   "source": [
    "# Sorting values by the return_per_dollar column. It's in descending order.\n",
    "df_genre_mean.sort_values(by=['return_per_dollar'],ascending=False).head(10)"
   ]
  },
  {
   "cell_type": "code",
   "execution_count": 86,
   "metadata": {
    "scrolled": false
   },
   "outputs": [
    {
     "data": {
      "text/plain": [
       "genre\n",
       "Adventure,Drama,Horror     64.225864\n",
       "Action,Comedy,Musical      13.148727\n",
       "Adventure,Drama,Western     9.981272\n",
       "Action,Drama,Music          9.264162\n",
       "Crime,Horror,Thriller       4.868740\n",
       "Name: return_per_dollar, dtype: float64"
      ]
     },
     "execution_count": 86,
     "metadata": {},
     "output_type": "execute_result"
    }
   ],
   "source": [
    "dict(df_genre_mean.nlargest(5,'return_per_dollar'))['return_per_dollar']"
   ]
  },
  {
   "cell_type": "code",
   "execution_count": 87,
   "metadata": {},
   "outputs": [
    {
     "data": {
      "text/plain": [
       "[Text(0, 0.5, 'Profit Per Dollar Invested'), Text(0.5, 0, 'Title')]"
      ]
     },
     "execution_count": 87,
     "metadata": {},
     "output_type": "execute_result"
    },
    {
     "data": {
      "image/png": "[encoded data removed]",
      "text/plain": [
       "<Figure size 864x360 with 1 Axes>"
      ]
     },
     "metadata": {},
     "output_type": "display_data"
    }
   ],
   "source": [
    "genre_group_roi = df_genre_mean.nlargest(5,'return_per_dollar')\n",
    "plt.figure(figsize=(12, 5))\n",
    "plt.savefig('destination_path.eps', format='eps')\n",
    "genre_group_roi = sns.barplot(x='genre', y='return_per_dollar', data=genre_group_roi.reset_index(),palette=\"mako\")\n",
    "genre_group_roi.set_title('Most Profitable Group of Genre Per Dollar Invested ', fontdict={'fontsize':14});\n",
    "genre_group_roi.set(xlabel='Title', ylabel='Profit Per Dollar Invested')"
   ]
  },
  {
   "cell_type": "code",
   "execution_count": 88,
   "metadata": {
    "scrolled": false
   },
   "outputs": [
    {
     "data": {
      "text/html": [
       "<div>\n",
       "<style scoped>\n",
       "    .dataframe tbody tr th:only-of-type {\n",
       "        vertical-align: middle;\n",
       "    }\n",
       "\n",
       "    .dataframe tbody tr th {\n",
       "        vertical-align: top;\n",
       "    }\n",
       "\n",
       "    .dataframe thead th {\n",
       "        text-align: right;\n",
       "    }\n",
       "</style>\n",
       "<table border=\"1\" class=\"dataframe\">\n",
       "  <thead>\n",
       "    <tr style=\"text-align: right;\">\n",
       "      <th></th>\n",
       "      <th>duration</th>\n",
       "      <th>avg_vote</th>\n",
       "      <th>metascore</th>\n",
       "      <th>profit_million</th>\n",
       "      <th>return_per_dollar</th>\n",
       "      <th>budget_million</th>\n",
       "    </tr>\n",
       "    <tr>\n",
       "      <th>genre</th>\n",
       "      <th></th>\n",
       "      <th></th>\n",
       "      <th></th>\n",
       "      <th></th>\n",
       "      <th></th>\n",
       "      <th></th>\n",
       "    </tr>\n",
       "  </thead>\n",
       "  <tbody>\n",
       "    <tr>\n",
       "      <th>Adventure,Family,Musical</th>\n",
       "      <td>82.0</td>\n",
       "      <td>3.5</td>\n",
       "      <td>NaN</td>\n",
       "      <td>-1.6</td>\n",
       "      <td>-1.0</td>\n",
       "      <td>1.6</td>\n",
       "    </tr>\n",
       "    <tr>\n",
       "      <th>Horror,Musical</th>\n",
       "      <td>56.0</td>\n",
       "      <td>6.4</td>\n",
       "      <td>NaN</td>\n",
       "      <td>-0.5</td>\n",
       "      <td>-1.0</td>\n",
       "      <td>0.5</td>\n",
       "    </tr>\n",
       "    <tr>\n",
       "      <th>Fantasy,Romance</th>\n",
       "      <td>106.0</td>\n",
       "      <td>7.0</td>\n",
       "      <td>NaN</td>\n",
       "      <td>-1.0</td>\n",
       "      <td>-1.0</td>\n",
       "      <td>1.0</td>\n",
       "    </tr>\n",
       "    <tr>\n",
       "      <th>Action,Thriller,War</th>\n",
       "      <td>92.0</td>\n",
       "      <td>4.3</td>\n",
       "      <td>39.0</td>\n",
       "      <td>-3.0</td>\n",
       "      <td>-1.0</td>\n",
       "      <td>3.0</td>\n",
       "    </tr>\n",
       "    <tr>\n",
       "      <th>Family,Sport</th>\n",
       "      <td>95.0</td>\n",
       "      <td>4.5</td>\n",
       "      <td>NaN</td>\n",
       "      <td>-2.0</td>\n",
       "      <td>-1.0</td>\n",
       "      <td>2.0</td>\n",
       "    </tr>\n",
       "  </tbody>\n",
       "</table>\n",
       "</div>"
      ],
      "text/plain": [
       "                          duration  avg_vote  metascore  profit_million  \\\n",
       "genre                                                                     \n",
       "Adventure,Family,Musical      82.0       3.5        NaN            -1.6   \n",
       "Horror,Musical                56.0       6.4        NaN            -0.5   \n",
       "Fantasy,Romance              106.0       7.0        NaN            -1.0   \n",
       "Action,Thriller,War           92.0       4.3       39.0            -3.0   \n",
       "Family,Sport                  95.0       4.5        NaN            -2.0   \n",
       "\n",
       "                          return_per_dollar  budget_million  \n",
       "genre                                                        \n",
       "Adventure,Family,Musical               -1.0             1.6  \n",
       "Horror,Musical                         -1.0             0.5  \n",
       "Fantasy,Romance                        -1.0             1.0  \n",
       "Action,Thriller,War                    -1.0             3.0  \n",
       "Family,Sport                           -1.0             2.0  "
      ]
     },
     "execution_count": 88,
     "metadata": {},
     "output_type": "execute_result"
    }
   ],
   "source": [
    "# Sorting values by the return_per_dollar column. It's in descending order.\n",
    "df_genre_mean.sort_values(by=['return_per_dollar'],ascending=True).head(5)"
   ]
  },
  {
   "cell_type": "markdown",
   "metadata": {},
   "source": [
    "# 9. Most Profitable Individual Genres"
   ]
  },
  {
   "cell_type": "code",
   "execution_count": 89,
   "metadata": {
    "scrolled": false
   },
   "outputs": [
    {
     "data": {
      "text/html": [
       "<div>\n",
       "<style scoped>\n",
       "    .dataframe tbody tr th:only-of-type {\n",
       "        vertical-align: middle;\n",
       "    }\n",
       "\n",
       "    .dataframe tbody tr th {\n",
       "        vertical-align: top;\n",
       "    }\n",
       "\n",
       "    .dataframe thead th {\n",
       "        text-align: right;\n",
       "    }\n",
       "</style>\n",
       "<table border=\"1\" class=\"dataframe\">\n",
       "  <thead>\n",
       "    <tr style=\"text-align: right;\">\n",
       "      <th></th>\n",
       "      <th>original_title</th>\n",
       "      <th>year</th>\n",
       "      <th>genre</th>\n",
       "      <th>duration</th>\n",
       "      <th>country</th>\n",
       "      <th>production_company</th>\n",
       "      <th>avg_vote</th>\n",
       "      <th>budget</th>\n",
       "      <th>usa_gross_income</th>\n",
       "      <th>worlwide_gross_income</th>\n",
       "      <th>metascore</th>\n",
       "      <th>profit</th>\n",
       "    </tr>\n",
       "    <tr>\n",
       "      <th>imdb_id</th>\n",
       "      <th></th>\n",
       "      <th></th>\n",
       "      <th></th>\n",
       "      <th></th>\n",
       "      <th></th>\n",
       "      <th></th>\n",
       "      <th></th>\n",
       "      <th></th>\n",
       "      <th></th>\n",
       "      <th></th>\n",
       "      <th></th>\n",
       "      <th></th>\n",
       "    </tr>\n",
       "  </thead>\n",
       "  <tbody>\n",
       "    <tr>\n",
       "      <th>tt0035423</th>\n",
       "      <td>Kate &amp; Leopold</td>\n",
       "      <td>2001</td>\n",
       "      <td>Comedy,Fantasy,Romance</td>\n",
       "      <td>118</td>\n",
       "      <td>USA</td>\n",
       "      <td>Konrad Pictures</td>\n",
       "      <td>6.4</td>\n",
       "      <td>48000000.0</td>\n",
       "      <td>47121859</td>\n",
       "      <td>76019048.0</td>\n",
       "      <td>44.0</td>\n",
       "      <td>16811428.8</td>\n",
       "    </tr>\n",
       "    <tr>\n",
       "      <th>tt0097176</th>\n",
       "      <td>Deceit</td>\n",
       "      <td>1990</td>\n",
       "      <td>Comedy,Sci-Fi</td>\n",
       "      <td>90</td>\n",
       "      <td>USA</td>\n",
       "      <td>21st Century Film Corporation</td>\n",
       "      <td>4.8</td>\n",
       "      <td>25000.0</td>\n",
       "      <td>0</td>\n",
       "      <td>0.0</td>\n",
       "      <td>NaN</td>\n",
       "      <td>-25000.0</td>\n",
       "    </tr>\n",
       "    <tr>\n",
       "      <th>tt0098375</th>\n",
       "      <td>Spontaneous Combustion</td>\n",
       "      <td>1990</td>\n",
       "      <td>Horror,Sci-Fi,Thriller</td>\n",
       "      <td>97</td>\n",
       "      <td>USA</td>\n",
       "      <td>Black Owl Productions</td>\n",
       "      <td>4.8</td>\n",
       "      <td>5500000.0</td>\n",
       "      <td>50367</td>\n",
       "      <td>50367.0</td>\n",
       "      <td>NaN</td>\n",
       "      <td>-5449633.0</td>\n",
       "    </tr>\n",
       "    <tr>\n",
       "      <th>tt0098987</th>\n",
       "      <td>The Adventures of Ford Fairlane</td>\n",
       "      <td>1990</td>\n",
       "      <td>Action,Adventure,Comedy</td>\n",
       "      <td>104</td>\n",
       "      <td>USA</td>\n",
       "      <td>Twentieth Century Fox</td>\n",
       "      <td>6.5</td>\n",
       "      <td>20000000.0</td>\n",
       "      <td>21413502</td>\n",
       "      <td>21413502.0</td>\n",
       "      <td>24.0</td>\n",
       "      <td>848101.2</td>\n",
       "    </tr>\n",
       "    <tr>\n",
       "      <th>tt0099005</th>\n",
       "      <td>Air America</td>\n",
       "      <td>1990</td>\n",
       "      <td>Action,Comedy,War</td>\n",
       "      <td>113</td>\n",
       "      <td>USA</td>\n",
       "      <td>Carolco Pictures</td>\n",
       "      <td>5.8</td>\n",
       "      <td>35000000.0</td>\n",
       "      <td>31053601</td>\n",
       "      <td>33461269.0</td>\n",
       "      <td>33.0</td>\n",
       "      <td>-1538731.0</td>\n",
       "    </tr>\n",
       "  </tbody>\n",
       "</table>\n",
       "</div>"
      ],
      "text/plain": [
       "                            original_title  year                    genre  \\\n",
       "imdb_id                                                                     \n",
       "tt0035423                   Kate & Leopold  2001   Comedy,Fantasy,Romance   \n",
       "tt0097176                           Deceit  1990            Comedy,Sci-Fi   \n",
       "tt0098375           Spontaneous Combustion  1990   Horror,Sci-Fi,Thriller   \n",
       "tt0098987  The Adventures of Ford Fairlane  1990  Action,Adventure,Comedy   \n",
       "tt0099005                      Air America  1990        Action,Comedy,War   \n",
       "\n",
       "           duration country             production_company  avg_vote  \\\n",
       "imdb_id                                                                \n",
       "tt0035423       118     USA                Konrad Pictures       6.4   \n",
       "tt0097176        90     USA  21st Century Film Corporation       4.8   \n",
       "tt0098375        97     USA          Black Owl Productions       4.8   \n",
       "tt0098987       104     USA          Twentieth Century Fox       6.5   \n",
       "tt0099005       113     USA               Carolco Pictures       5.8   \n",
       "\n",
       "               budget usa_gross_income  worlwide_gross_income  metascore  \\\n",
       "imdb_id                                                                    \n",
       "tt0035423  48000000.0         47121859             76019048.0       44.0   \n",
       "tt0097176     25000.0                0                    0.0        NaN   \n",
       "tt0098375   5500000.0            50367                50367.0        NaN   \n",
       "tt0098987  20000000.0         21413502             21413502.0       24.0   \n",
       "tt0099005  35000000.0         31053601             33461269.0       33.0   \n",
       "\n",
       "               profit  \n",
       "imdb_id                \n",
       "tt0035423  16811428.8  \n",
       "tt0097176    -25000.0  \n",
       "tt0098375  -5449633.0  \n",
       "tt0098987    848101.2  \n",
       "tt0099005  -1538731.0  "
      ]
     },
     "execution_count": 89,
     "metadata": {},
     "output_type": "execute_result"
    }
   ],
   "source": [
    "# Make a copy of the main DataFrame\n",
    "df_copy = df.copy()\n",
    "df_copy.head()"
   ]
  },
  {
   "cell_type": "markdown",
   "metadata": {},
   "source": [
    "### 9.1 Split the genres and create a new DataFrame"
   ]
  },
  {
   "cell_type": "code",
   "execution_count": 90,
   "metadata": {},
   "outputs": [],
   "source": [
    "# Split genres and create a new entry for each of the genre a movie falls into\n",
    "s = df_copy['genre'].str.split(',').apply(Series, 1).stack()\n",
    "# Create a temporary DataFrame with the index and genre columns\n",
    "s.index = s.index.droplevel(-1)\n",
    "s.name = 'genre'\n",
    "# Delete the genre column\n",
    "del df_copy['genre']\n",
    "df_split_genres = df_copy.join(s)"
   ]
  },
  {
   "cell_type": "code",
   "execution_count": 91,
   "metadata": {
    "scrolled": true
   },
   "outputs": [
    {
     "data": {
      "text/plain": [
       "(14497, 12)"
      ]
     },
     "execution_count": 91,
     "metadata": {},
     "output_type": "execute_result"
    }
   ],
   "source": [
    "# Check entries (should be a lot more rows since the most movies have more than one genre)\n",
    "df_split_genres.shape"
   ]
  },
  {
   "cell_type": "code",
   "execution_count": 92,
   "metadata": {},
   "outputs": [],
   "source": [
    "# This code allows pandas to show all the rows\n",
    "pd.set_option('display.max_rows', None)\n",
    "# Group data by genre and get mean for each genre and each variable, divide by 1 million for better visibility\n",
    "df_per_genre = df_split_genres.groupby(['genre']).mean()\n",
    "df_per_genre ['profit_million'] = df_per_genre['profit']/1000000\n",
    "df_per_genre ['return_per_dollar'] = df_per_genre['profit']/df_per_genre['budget']\n",
    "# Delete the 'profit' column\n",
    "del df_per_genre['profit']\n",
    "df_per_genre['worlwide_gross_income'] = df_per_genre['worlwide_gross_income']/1000000\n",
    "# Delete the 'worlwide_gross_income' column\n",
    "del df_per_genre['worlwide_gross_income']\n",
    "df_per_genre['budget_million'] = df_per_genre['budget']/1000000\n",
    "# Delete the 'budget' column\n",
    "del df_per_genre['budget']\n",
    "# Delete the 'year' column\n",
    "del df_per_genre['year']"
   ]
  },
  {
   "cell_type": "markdown",
   "metadata": {},
   "source": [
    "### 9.2 Most profitable individual genre"
   ]
  },
  {
   "cell_type": "code",
   "execution_count": 93,
   "metadata": {
    "scrolled": true
   },
   "outputs": [
    {
     "data": {
      "text/html": [
       "<div>\n",
       "<style scoped>\n",
       "    .dataframe tbody tr th:only-of-type {\n",
       "        vertical-align: middle;\n",
       "    }\n",
       "\n",
       "    .dataframe tbody tr th {\n",
       "        vertical-align: top;\n",
       "    }\n",
       "\n",
       "    .dataframe thead th {\n",
       "        text-align: right;\n",
       "    }\n",
       "</style>\n",
       "<table border=\"1\" class=\"dataframe\">\n",
       "  <thead>\n",
       "    <tr style=\"text-align: right;\">\n",
       "      <th></th>\n",
       "      <th>duration</th>\n",
       "      <th>avg_vote</th>\n",
       "      <th>metascore</th>\n",
       "      <th>profit_million</th>\n",
       "      <th>return_per_dollar</th>\n",
       "      <th>budget_million</th>\n",
       "    </tr>\n",
       "    <tr>\n",
       "      <th>genre</th>\n",
       "      <th></th>\n",
       "      <th></th>\n",
       "      <th></th>\n",
       "      <th></th>\n",
       "      <th></th>\n",
       "      <th></th>\n",
       "    </tr>\n",
       "  </thead>\n",
       "  <tbody>\n",
       "    <tr>\n",
       "      <th>Animation</th>\n",
       "      <td>89.919028</td>\n",
       "      <td>6.387045</td>\n",
       "      <td>59.138095</td>\n",
       "      <td>121.788071</td>\n",
       "      <td>1.588840</td>\n",
       "      <td>76.652212</td>\n",
       "    </tr>\n",
       "    <tr>\n",
       "      <th>Adventure</th>\n",
       "      <td>106.364162</td>\n",
       "      <td>6.095260</td>\n",
       "      <td>52.237772</td>\n",
       "      <td>104.248915</td>\n",
       "      <td>1.368292</td>\n",
       "      <td>76.189095</td>\n",
       "    </tr>\n",
       "    <tr>\n",
       "      <th>Sci-Fi</th>\n",
       "      <td>106.379863</td>\n",
       "      <td>5.723570</td>\n",
       "      <td>49.854785</td>\n",
       "      <td>68.416803</td>\n",
       "      <td>1.188757</td>\n",
       "      <td>57.553222</td>\n",
       "    </tr>\n",
       "    <tr>\n",
       "      <th>Action</th>\n",
       "      <td>106.648629</td>\n",
       "      <td>5.810967</td>\n",
       "      <td>48.109360</td>\n",
       "      <td>53.555004</td>\n",
       "      <td>1.010831</td>\n",
       "      <td>52.981172</td>\n",
       "    </tr>\n",
       "    <tr>\n",
       "      <th>Fantasy</th>\n",
       "      <td>103.828638</td>\n",
       "      <td>5.788967</td>\n",
       "      <td>46.408537</td>\n",
       "      <td>49.365756</td>\n",
       "      <td>1.072056</td>\n",
       "      <td>46.047739</td>\n",
       "    </tr>\n",
       "    <tr>\n",
       "      <th>Musical</th>\n",
       "      <td>103.051282</td>\n",
       "      <td>5.823077</td>\n",
       "      <td>51.760000</td>\n",
       "      <td>37.693947</td>\n",
       "      <td>1.523878</td>\n",
       "      <td>24.735541</td>\n",
       "    </tr>\n",
       "    <tr>\n",
       "      <th>Family</th>\n",
       "      <td>97.880109</td>\n",
       "      <td>5.680381</td>\n",
       "      <td>47.745387</td>\n",
       "      <td>35.663431</td>\n",
       "      <td>0.908323</td>\n",
       "      <td>39.262931</td>\n",
       "    </tr>\n",
       "    <tr>\n",
       "      <th>Comedy</th>\n",
       "      <td>98.367184</td>\n",
       "      <td>5.860848</td>\n",
       "      <td>49.316826</td>\n",
       "      <td>24.881062</td>\n",
       "      <td>0.957135</td>\n",
       "      <td>25.995360</td>\n",
       "    </tr>\n",
       "    <tr>\n",
       "      <th>Mystery</th>\n",
       "      <td>103.269750</td>\n",
       "      <td>5.905588</td>\n",
       "      <td>49.589474</td>\n",
       "      <td>21.254913</td>\n",
       "      <td>0.953006</td>\n",
       "      <td>22.303031</td>\n",
       "    </tr>\n",
       "    <tr>\n",
       "      <th>Thriller</th>\n",
       "      <td>101.029570</td>\n",
       "      <td>5.638889</td>\n",
       "      <td>48.809524</td>\n",
       "      <td>18.624387</td>\n",
       "      <td>0.870878</td>\n",
       "      <td>21.385751</td>\n",
       "    </tr>\n",
       "  </tbody>\n",
       "</table>\n",
       "</div>"
      ],
      "text/plain": [
       "             duration  avg_vote  metascore  profit_million  return_per_dollar  \\\n",
       "genre                                                                           \n",
       "Animation   89.919028  6.387045  59.138095      121.788071           1.588840   \n",
       "Adventure  106.364162  6.095260  52.237772      104.248915           1.368292   \n",
       "Sci-Fi     106.379863  5.723570  49.854785       68.416803           1.188757   \n",
       "Action     106.648629  5.810967  48.109360       53.555004           1.010831   \n",
       "Fantasy    103.828638  5.788967  46.408537       49.365756           1.072056   \n",
       "Musical    103.051282  5.823077  51.760000       37.693947           1.523878   \n",
       "Family      97.880109  5.680381  47.745387       35.663431           0.908323   \n",
       "Comedy      98.367184  5.860848  49.316826       24.881062           0.957135   \n",
       "Mystery    103.269750  5.905588  49.589474       21.254913           0.953006   \n",
       "Thriller   101.029570  5.638889  48.809524       18.624387           0.870878   \n",
       "\n",
       "           budget_million  \n",
       "genre                      \n",
       "Animation       76.652212  \n",
       "Adventure       76.189095  \n",
       "Sci-Fi          57.553222  \n",
       "Action          52.981172  \n",
       "Fantasy         46.047739  \n",
       "Musical         24.735541  \n",
       "Family          39.262931  \n",
       "Comedy          25.995360  \n",
       "Mystery         22.303031  \n",
       "Thriller        21.385751  "
      ]
     },
     "execution_count": 93,
     "metadata": {},
     "output_type": "execute_result"
    }
   ],
   "source": [
    "df_per_genre.sort_values(by=['profit_million'],ascending=False).head(10)"
   ]
  },
  {
   "cell_type": "code",
   "execution_count": 94,
   "metadata": {
    "scrolled": false
   },
   "outputs": [
    {
     "data": {
      "text/plain": [
       "genre\n",
       "Animation    121.788071\n",
       "Adventure    104.248915\n",
       "Sci-Fi        68.416803\n",
       "Action        53.555004\n",
       "Fantasy       49.365756\n",
       "Name: profit_million, dtype: float64"
      ]
     },
     "execution_count": 94,
     "metadata": {},
     "output_type": "execute_result"
    }
   ],
   "source": [
    "dict(df_per_genre.nlargest(5,'profit_million'))['profit_million']"
   ]
  },
  {
   "cell_type": "code",
   "execution_count": 95,
   "metadata": {},
   "outputs": [
    {
     "data": {
      "text/plain": [
       "[Text(0, 0.5, 'Profit Per Dollar Invested'), Text(0.5, 0, 'Title')]"
      ]
     },
     "execution_count": 95,
     "metadata": {},
     "output_type": "execute_result"
    },
    {
     "data": {
      "image/png": "[encoded data removed]",
      "text/plain": [
       "<Figure size 1080x360 with 1 Axes>"
      ]
     },
     "metadata": {},
     "output_type": "display_data"
    }
   ],
   "source": [
    "genre_roi = df_per_genre.nlargest(10,'profit_million')\n",
    "plt.figure(figsize=(15, 5))\n",
    "plt.savefig('destination_path.eps', format='eps')\n",
    "genre_roi = sns.barplot(x='genre', y='profit_million', data=genre_roi.reset_index(),palette=\"mako\")\n",
    "genre_roi.set_title('Most Profitable Genres', fontdict={'fontsize':14});\n",
    "genre_roi.set(xlabel='Title', ylabel='Profit Per Dollar Invested')"
   ]
  },
  {
   "cell_type": "markdown",
   "metadata": {},
   "source": [
    "### 9.3 Return per dollar invested"
   ]
  },
  {
   "cell_type": "code",
   "execution_count": 96,
   "metadata": {
    "scrolled": false
   },
   "outputs": [
    {
     "data": {
      "text/html": [
       "<div>\n",
       "<style scoped>\n",
       "    .dataframe tbody tr th:only-of-type {\n",
       "        vertical-align: middle;\n",
       "    }\n",
       "\n",
       "    .dataframe tbody tr th {\n",
       "        vertical-align: top;\n",
       "    }\n",
       "\n",
       "    .dataframe thead th {\n",
       "        text-align: right;\n",
       "    }\n",
       "</style>\n",
       "<table border=\"1\" class=\"dataframe\">\n",
       "  <thead>\n",
       "    <tr style=\"text-align: right;\">\n",
       "      <th></th>\n",
       "      <th>duration</th>\n",
       "      <th>avg_vote</th>\n",
       "      <th>metascore</th>\n",
       "      <th>profit_million</th>\n",
       "      <th>return_per_dollar</th>\n",
       "      <th>budget_million</th>\n",
       "    </tr>\n",
       "    <tr>\n",
       "      <th>genre</th>\n",
       "      <th></th>\n",
       "      <th></th>\n",
       "      <th></th>\n",
       "      <th></th>\n",
       "      <th></th>\n",
       "      <th></th>\n",
       "    </tr>\n",
       "  </thead>\n",
       "  <tbody>\n",
       "    <tr>\n",
       "      <th>Animation</th>\n",
       "      <td>89.919028</td>\n",
       "      <td>6.387045</td>\n",
       "      <td>59.138095</td>\n",
       "      <td>121.788071</td>\n",
       "      <td>1.588840</td>\n",
       "      <td>76.652212</td>\n",
       "    </tr>\n",
       "    <tr>\n",
       "      <th>Musical</th>\n",
       "      <td>103.051282</td>\n",
       "      <td>5.823077</td>\n",
       "      <td>51.760000</td>\n",
       "      <td>37.693947</td>\n",
       "      <td>1.523878</td>\n",
       "      <td>24.735541</td>\n",
       "    </tr>\n",
       "    <tr>\n",
       "      <th>Adventure</th>\n",
       "      <td>106.364162</td>\n",
       "      <td>6.095260</td>\n",
       "      <td>52.237772</td>\n",
       "      <td>104.248915</td>\n",
       "      <td>1.368292</td>\n",
       "      <td>76.189095</td>\n",
       "    </tr>\n",
       "    <tr>\n",
       "      <th>Sci-Fi</th>\n",
       "      <td>106.379863</td>\n",
       "      <td>5.723570</td>\n",
       "      <td>49.854785</td>\n",
       "      <td>68.416803</td>\n",
       "      <td>1.188757</td>\n",
       "      <td>57.553222</td>\n",
       "    </tr>\n",
       "    <tr>\n",
       "      <th>Fantasy</th>\n",
       "      <td>103.828638</td>\n",
       "      <td>5.788967</td>\n",
       "      <td>46.408537</td>\n",
       "      <td>49.365756</td>\n",
       "      <td>1.072056</td>\n",
       "      <td>46.047739</td>\n",
       "    </tr>\n",
       "    <tr>\n",
       "      <th>Action</th>\n",
       "      <td>106.648629</td>\n",
       "      <td>5.810967</td>\n",
       "      <td>48.109360</td>\n",
       "      <td>53.555004</td>\n",
       "      <td>1.010831</td>\n",
       "      <td>52.981172</td>\n",
       "    </tr>\n",
       "    <tr>\n",
       "      <th>Comedy</th>\n",
       "      <td>98.367184</td>\n",
       "      <td>5.860848</td>\n",
       "      <td>49.316826</td>\n",
       "      <td>24.881062</td>\n",
       "      <td>0.957135</td>\n",
       "      <td>25.995360</td>\n",
       "    </tr>\n",
       "    <tr>\n",
       "      <th>Horror</th>\n",
       "      <td>94.227384</td>\n",
       "      <td>5.080807</td>\n",
       "      <td>44.004556</td>\n",
       "      <td>10.890458</td>\n",
       "      <td>0.954838</td>\n",
       "      <td>11.405553</td>\n",
       "    </tr>\n",
       "    <tr>\n",
       "      <th>Mystery</th>\n",
       "      <td>103.269750</td>\n",
       "      <td>5.905588</td>\n",
       "      <td>49.589474</td>\n",
       "      <td>21.254913</td>\n",
       "      <td>0.953006</td>\n",
       "      <td>22.303031</td>\n",
       "    </tr>\n",
       "    <tr>\n",
       "      <th>Music</th>\n",
       "      <td>104.954545</td>\n",
       "      <td>6.247403</td>\n",
       "      <td>53.738095</td>\n",
       "      <td>15.393981</td>\n",
       "      <td>0.944285</td>\n",
       "      <td>16.302269</td>\n",
       "    </tr>\n",
       "  </tbody>\n",
       "</table>\n",
       "</div>"
      ],
      "text/plain": [
       "             duration  avg_vote  metascore  profit_million  return_per_dollar  \\\n",
       "genre                                                                           \n",
       "Animation   89.919028  6.387045  59.138095      121.788071           1.588840   \n",
       "Musical    103.051282  5.823077  51.760000       37.693947           1.523878   \n",
       "Adventure  106.364162  6.095260  52.237772      104.248915           1.368292   \n",
       "Sci-Fi     106.379863  5.723570  49.854785       68.416803           1.188757   \n",
       "Fantasy    103.828638  5.788967  46.408537       49.365756           1.072056   \n",
       "Action     106.648629  5.810967  48.109360       53.555004           1.010831   \n",
       "Comedy      98.367184  5.860848  49.316826       24.881062           0.957135   \n",
       "Horror      94.227384  5.080807  44.004556       10.890458           0.954838   \n",
       "Mystery    103.269750  5.905588  49.589474       21.254913           0.953006   \n",
       "Music      104.954545  6.247403  53.738095       15.393981           0.944285   \n",
       "\n",
       "           budget_million  \n",
       "genre                      \n",
       "Animation       76.652212  \n",
       "Musical         24.735541  \n",
       "Adventure       76.189095  \n",
       "Sci-Fi          57.553222  \n",
       "Fantasy         46.047739  \n",
       "Action          52.981172  \n",
       "Comedy          25.995360  \n",
       "Horror          11.405553  \n",
       "Mystery         22.303031  \n",
       "Music           16.302269  "
      ]
     },
     "execution_count": 96,
     "metadata": {},
     "output_type": "execute_result"
    }
   ],
   "source": [
    "# Sorting the value by the 'return_per_dollar'\n",
    "df_per_genre.sort_values(by=['return_per_dollar'],ascending=False).head(10)"
   ]
  },
  {
   "cell_type": "code",
   "execution_count": 97,
   "metadata": {
    "scrolled": true
   },
   "outputs": [
    {
     "data": {
      "text/plain": [
       "genre\n",
       "Animation    1.588840\n",
       "Musical      1.523878\n",
       "Adventure    1.368292\n",
       "Sci-Fi       1.188757\n",
       "Fantasy      1.072056\n",
       "Name: return_per_dollar, dtype: float64"
      ]
     },
     "execution_count": 97,
     "metadata": {},
     "output_type": "execute_result"
    }
   ],
   "source": [
    "dict(df_per_genre.nlargest(5,'return_per_dollar'))['return_per_dollar']"
   ]
  },
  {
   "cell_type": "code",
   "execution_count": 98,
   "metadata": {},
   "outputs": [
    {
     "data": {
      "text/plain": [
       "[Text(0, 0.5, 'Profit Per Dollar Invested'), Text(0.5, 0, 'Title')]"
      ]
     },
     "execution_count": 98,
     "metadata": {},
     "output_type": "execute_result"
    },
    {
     "data": {
      "image/png": "[encoded data removed]",
      "text/plain": [
       "<Figure size 864x360 with 1 Axes>"
      ]
     },
     "metadata": {},
     "output_type": "display_data"
    }
   ],
   "source": [
    "genre_roi = df_per_genre.nlargest(5,'return_per_dollar')\n",
    "plt.figure(figsize=(12, 5))\n",
    "plt.savefig('destination_path.eps', format='eps')\n",
    "genre_roi = sns.barplot(x='genre', y='return_per_dollar', data=genre_roi.reset_index(),palette=\"mako\")\n",
    "genre_roi.set_title('Most Profitable Genres Per Dollar Invested ', fontdict={'fontsize':14});\n",
    "genre_roi.set(xlabel='Title', ylabel='Profit Per Dollar Invested')"
   ]
  },
  {
   "cell_type": "code",
   "execution_count": 99,
   "metadata": {
    "scrolled": true
   },
   "outputs": [
    {
     "data": {
      "text/html": [
       "<div>\n",
       "<style scoped>\n",
       "    .dataframe tbody tr th:only-of-type {\n",
       "        vertical-align: middle;\n",
       "    }\n",
       "\n",
       "    .dataframe tbody tr th {\n",
       "        vertical-align: top;\n",
       "    }\n",
       "\n",
       "    .dataframe thead th {\n",
       "        text-align: right;\n",
       "    }\n",
       "</style>\n",
       "<table border=\"1\" class=\"dataframe\">\n",
       "  <thead>\n",
       "    <tr style=\"text-align: right;\">\n",
       "      <th></th>\n",
       "      <th>duration</th>\n",
       "      <th>avg_vote</th>\n",
       "      <th>metascore</th>\n",
       "      <th>profit_million</th>\n",
       "      <th>return_per_dollar</th>\n",
       "      <th>budget_million</th>\n",
       "    </tr>\n",
       "    <tr>\n",
       "      <th>genre</th>\n",
       "      <th></th>\n",
       "      <th></th>\n",
       "      <th></th>\n",
       "      <th></th>\n",
       "      <th></th>\n",
       "      <th></th>\n",
       "    </tr>\n",
       "  </thead>\n",
       "  <tbody>\n",
       "    <tr>\n",
       "      <th>Sport</th>\n",
       "      <td>108.946667</td>\n",
       "      <td>6.226667</td>\n",
       "      <td>50.754386</td>\n",
       "      <td>7.374504</td>\n",
       "      <td>0.323485</td>\n",
       "      <td>22.797074</td>\n",
       "    </tr>\n",
       "    <tr>\n",
       "      <th>War</th>\n",
       "      <td>118.133333</td>\n",
       "      <td>6.350000</td>\n",
       "      <td>56.166667</td>\n",
       "      <td>10.771316</td>\n",
       "      <td>0.397544</td>\n",
       "      <td>27.094667</td>\n",
       "    </tr>\n",
       "    <tr>\n",
       "      <th>History</th>\n",
       "      <td>128.259615</td>\n",
       "      <td>6.710577</td>\n",
       "      <td>60.494382</td>\n",
       "      <td>14.434155</td>\n",
       "      <td>0.399704</td>\n",
       "      <td>36.112111</td>\n",
       "    </tr>\n",
       "    <tr>\n",
       "      <th>Crime</th>\n",
       "      <td>104.691556</td>\n",
       "      <td>6.068000</td>\n",
       "      <td>50.931298</td>\n",
       "      <td>12.419001</td>\n",
       "      <td>0.523399</td>\n",
       "      <td>23.727599</td>\n",
       "    </tr>\n",
       "    <tr>\n",
       "      <th>Biography</th>\n",
       "      <td>119.857143</td>\n",
       "      <td>6.849817</td>\n",
       "      <td>60.587045</td>\n",
       "      <td>15.760444</td>\n",
       "      <td>0.591848</td>\n",
       "      <td>26.629194</td>\n",
       "    </tr>\n",
       "  </tbody>\n",
       "</table>\n",
       "</div>"
      ],
      "text/plain": [
       "             duration  avg_vote  metascore  profit_million  return_per_dollar  \\\n",
       "genre                                                                           \n",
       "Sport      108.946667  6.226667  50.754386        7.374504           0.323485   \n",
       "War        118.133333  6.350000  56.166667       10.771316           0.397544   \n",
       "History    128.259615  6.710577  60.494382       14.434155           0.399704   \n",
       "Crime      104.691556  6.068000  50.931298       12.419001           0.523399   \n",
       "Biography  119.857143  6.849817  60.587045       15.760444           0.591848   \n",
       "\n",
       "           budget_million  \n",
       "genre                      \n",
       "Sport           22.797074  \n",
       "War             27.094667  \n",
       "History         36.112111  \n",
       "Crime           23.727599  \n",
       "Biography       26.629194  "
      ]
     },
     "execution_count": 99,
     "metadata": {},
     "output_type": "execute_result"
    }
   ],
   "source": [
    "# Sorting the value by the 'return_per_dollar' \n",
    "df_per_genre.sort_values(by=['return_per_dollar'],ascending=True).head(5)"
   ]
  },
  {
   "cell_type": "code",
   "execution_count": 100,
   "metadata": {
    "scrolled": true
   },
   "outputs": [
    {
     "data": {
      "text/plain": [
       "genre\n",
       "Sport        0.323485\n",
       "War          0.397544\n",
       "History      0.399704\n",
       "Crime        0.523399\n",
       "Biography    0.591848\n",
       "Name: return_per_dollar, dtype: float64"
      ]
     },
     "execution_count": 100,
     "metadata": {},
     "output_type": "execute_result"
    }
   ],
   "source": [
    "dict(df_per_genre.nsmallest(5,'return_per_dollar'))['return_per_dollar']"
   ]
  },
  {
   "cell_type": "code",
   "execution_count": 125,
   "metadata": {
    "scrolled": false
   },
   "outputs": [
    {
     "data": {
      "text/plain": [
       "[Text(0, 0.5, 'Profit Per Dollar Invested'), Text(0.5, 0, 'Title')]"
      ]
     },
     "execution_count": 125,
     "metadata": {},
     "output_type": "execute_result"
    },
    {
     "data": {
      "image/png": "[encoded data removed]",
      "text/plain": [
       "<Figure size 1080x360 with 1 Axes>"
      ]
     },
     "metadata": {},
     "output_type": "display_data"
    }
   ],
   "source": [
    "genre_roi = df_per_genre.nsmallest(10,'return_per_dollar')\n",
    "plt.figure(figsize=(15, 5))\n",
    "genre_roi = sns.barplot(x='genre', y='return_per_dollar', data=genre_roi.reset_index(),palette=\"rocket\")\n",
    "genre_roi.set_title('Least Profitable Genres Per Dollar Invested', fontdict={'fontsize':14});\n",
    "genre_roi.set(xlabel='Title', ylabel='Profit Per Dollar Invested')"
   ]
  },
  {
   "cell_type": "markdown",
   "metadata": {},
   "source": [
    "\n",
    "# 10. Final Takeaways and Recomendations"
   ]
  },
  {
   "cell_type": "markdown",
   "metadata": {},
   "source": [
    "#### Out of the top 20 most profitable movies:\n",
    "   - 18 them are part of a franchise of movies\n",
    "   - 13 of them are continuations of previous movies\n",
    "   - 5 of them are the first movie of a franchise\n",
    "   - 2 of them haven't had a continuation yet, but they are underway\n",
    "   - Only Beauty and the Best and Titanic aren't part of a franchise yet.\n",
    "    \n",
    "    \n",
    "#### Correlation between the data:\n",
    "   - Higher budget and higher box office are positively correlated. However, it is not garantee that higher budget will bring higher revenue. It will depend on the quality and reception of the final product\n",
    "\n",
    "   - Higher budget and higher profits have a positive moderate correlation\n",
    "\n",
    "   - Budget and box office have a strong positive correlation\n",
    "\n",
    "   - Duration and average vote have a moderate correlation\n",
    "\n",
    "   - Budget and duration have a moderate correlation\n",
    "\n",
    "\n",
    "\n",
    "\n",
    "#### The genres with more movies launched between 1990 and 2020 are:\n",
    "   - Drama, Comedy, Horror, Thriller, Action, Biography, Adventure, Romance, and Crime.\n",
    "\n",
    "\n",
    "#### The groups of genres that are doing the highest in box office reveue are:\n",
    "    - Family, Fantasy, Musical       662.438628 million dollars \n",
    "    - Animation, Adventure, Drama    289.253644 million dollars\n",
    "    - Action, Drama, Music           231.604044 million dollars\n",
    "    - Biography, Drama, Musical      210.651842 million dollars\n",
    "    - Action, Adventure, Sci-Fi      208.141854 million dollars\n",
    "    \n",
    "#### The group of genres that bring the highest ROI (per dollar invested) are:    \n",
    "    \n",
    "    - Adventure,Drama,Horror     64.225864 dollars\n",
    "    - Action,Comedy,Musical      13.148727 dollars\n",
    "    - Adventure,Drama,Western     9.981272 dollars\n",
    "    - Action,Drama,Music          9.264162 dollars\n",
    "    - Crime,Horror,Thriller       4.868740 dollars\n",
    "\n",
    "#### The individual genres that bring the highest in box office reveue are:\n",
    "    - Animation    121.788071 million dollars\n",
    "    - Adventure    104.248915 million dollars\n",
    "    - Sci-Fi        68.416803 million dollars\n",
    "    - Action        53.555004 million dollars\n",
    "    - Fantasy       49.365756 million dollars\n",
    "\n",
    "#### The individual genre that bring the highest ROI per dolar invested are\n",
    "    - Animation    1.588840 dollars\n",
    "    - Musical      1.523878 dollars\n",
    "    - Adventure    1.368292 dollars\n",
    "    - Sci-Fi       1.188757 dollars\n",
    "    - Fantasy      1.072056 dollars\n",
    "    \n",
    "#### The individual genre that bring the lowest ROI per dolar invested are    \n",
    "    - Sport        0.323485 dollars\n",
    "    - War          0.397544 dollars\n",
    "    - History      0.399704 dollars\n",
    "    - Crime        0.523399 dollars\n",
    "    - Biography    0.591848 dollars"
   ]
  }
 ],
 "metadata": {
  "kernelspec": {
   "display_name": "Python 3",
   "language": "python",
   "name": "python3"
  },
  "language_info": {
   "codemirror_mode": {
    "name": "ipython",
    "version": 3
   },
   "file_extension": ".py",
   "mimetype": "text/x-python",
   "name": "python",
   "nbconvert_exporter": "python",
   "pygments_lexer": "ipython3",
   "version": "3.6.9"
  }
 },
 "nbformat": 4,
 "nbformat_minor": 2
}
